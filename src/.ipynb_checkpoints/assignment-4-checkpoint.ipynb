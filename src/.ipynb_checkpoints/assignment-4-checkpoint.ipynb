{
 "cells": [
  {
   "cell_type": "code",
   "execution_count": 113,
   "metadata": {},
   "outputs": [],
   "source": [
    "%matplotlib widget\n",
    "\n",
    "import csv\n",
    "import numpy as np\n",
    "import matplotlib\n",
    "import matplotlib.pyplot as plt\n",
    "from mpl_toolkits.mplot3d import Axes3D\n",
    "import numpy.linalg as la\n",
    "\n",
    "from skimage import io\n",
    "from skimage.color import rgb2gray\n",
    "from matplotlib.patches import ConnectionPatch\n",
    "\n",
    "# TeX typesetting\n",
    "from matplotlib import rc\n",
    "rc('font',**{'family':'sans-serif','sans-serif':['Helvetica']})\n",
    "rc('text', usetex=True)\n",
    "\n",
    "# Aesthetics\n",
    "plt.close('all')\n",
    "plt.style.use('seaborn-pastel')"
   ]
  },
  {
   "cell_type": "code",
   "execution_count": 206,
   "metadata": {},
   "outputs": [],
   "source": [
    "# helpers\n",
    "# https://stackoverflow.com/questions/17129290/numpy-2d-and-1d-array-to-latex-bmatrix\n",
    "def bmatrix(a):\n",
    "    \"\"\"Returns a LaTeX bmatrix\n",
    "\n",
    "    :a: numpy array\n",
    "    :returns: LaTeX bmatrix as a string\n",
    "    \"\"\"\n",
    "    if len(a.shape) > 2:\n",
    "        raise ValueError('bmatrix can at most display two dimensions')\n",
    "    lines = str(a).replace('[', '').replace(']', '').splitlines()\n",
    "    rv = [r'\\begin{bmatrix}']\n",
    "    rv += ['  ' + ' & '.join(l.split()) + r'\\\\' for l in lines]\n",
    "    rv +=  [r'\\end{bmatrix}']\n",
    "    return '\\n'.join(rv)\n",
    "flatten = lambda l: [item for sl in l for item in sl]"
   ]
  },
  {
   "cell_type": "markdown",
   "metadata": {},
   "source": [
    "## Q1"
   ]
  },
  {
   "cell_type": "markdown",
   "metadata": {},
   "source": [
    "### (a)"
   ]
  },
  {
   "cell_type": "code",
   "execution_count": 170,
   "metadata": {},
   "outputs": [],
   "source": [
    "et1 = io.imread(\"../assets/assignment-4/et1.jpg\")\n",
    "et2 = io.imread(\"../assets/assignment-4/et2.jpg\")\n",
    "sift_dat = '../assets/assignment-4/etmatches.txt'"
   ]
  },
  {
   "cell_type": "code",
   "execution_count": 171,
   "metadata": {},
   "outputs": [
    {
     "data": {
      "application/vnd.jupyter.widget-view+json": {
       "model_id": "b7c3c14d765b45c99a800a23c28a767a",
       "version_major": 2,
       "version_minor": 0
      },
      "text/plain": [
       "Canvas(toolbar=Toolbar(toolitems=[('Home', 'Reset original view', 'home', 'home'), ('Back', 'Back to previous …"
      ]
     },
     "metadata": {},
     "output_type": "display_data"
    },
    {
     "data": {
      "text/plain": [
       "<matplotlib.image.AxesImage at 0x7f421daf1640>"
      ]
     },
     "execution_count": 171,
     "metadata": {},
     "output_type": "execute_result"
    }
   ],
   "source": [
    "fig, axes = plt.subplots(1, 2)\n",
    "axes[0].imshow(et1)\n",
    "axes[1].imshow(et2)"
   ]
  },
  {
   "cell_type": "code",
   "execution_count": 172,
   "metadata": {},
   "outputs": [],
   "source": []
  },
  {
   "cell_type": "code",
   "execution_count": 173,
   "metadata": {},
   "outputs": [],
   "source": [
    "def read_sift_dat(dat):\n",
    "    matches = []\n",
    "    with open(dat) as csv_file:\n",
    "        csv_reader = csv.reader(csv_file, delimiter=\" \")\n",
    "        for row in csv_reader:\n",
    "            # empty strings\n",
    "            s = list(filter(lambda s: len(s) > 0, row))\n",
    "            matches.append(np.array(flatten([s[:2],[1], s[2:], [1]]), dtype=\"float\"))\n",
    "    return np.array(matches, dtype=\"float\")"
   ]
  },
  {
   "cell_type": "code",
   "execution_count": 174,
   "metadata": {},
   "outputs": [],
   "source": [
    "def plot_sift_matches(axes, image1, matches=None, matches_color=\"#fff200\", keypoints_color=\"#ffffff\"):\n",
    "    '''\n",
    "    https://matplotlib.org/tutorials/text/annotations.html\n",
    "    '''\n",
    "    axes.imshow(image1, cmap=plt.cm.gray)\n",
    "    \n",
    "    \n",
    "    if not matches is None:\n",
    "        ## Get coordinates of matches\n",
    "        Axy = matches[:,:3]\n",
    "        Bxy = matches[:,3:]\n",
    "        N = len(Axy)\n",
    "\n",
    "        for i in range(N):\n",
    "            a = (Axy[i][0],Axy[i][1])\n",
    "            b = (Bxy[i][0],Bxy[i][1])\n",
    "\n",
    "            # connection and marker\n",
    "            con = ConnectionPatch(xyA=a, xyB=b, coordsA=\"data\", coordsB=\"data\",color=matches_color)\n",
    "            axes.plot(a[0],a[1],'+',markersize=4, color=keypoints_color)\n",
    "\n",
    "            # draw line\n",
    "            axes.add_artist(con)"
   ]
  },
  {
   "cell_type": "code",
   "execution_count": 175,
   "metadata": {},
   "outputs": [
    {
     "data": {
      "application/vnd.jupyter.widget-view+json": {
       "model_id": "15bf44db71a844f19061d118e2f3fc26",
       "version_major": 2,
       "version_minor": 0
      },
      "text/plain": [
       "Canvas(toolbar=Toolbar(toolitems=[('Home', 'Reset original view', 'home', 'home'), ('Back', 'Back to previous …"
      ]
     },
     "metadata": {},
     "output_type": "display_data"
    }
   ],
   "source": [
    "sift_matches = read_sift_dat(sift_dat)\n",
    "fig,axes = plt.subplots()\n",
    "fig.tight_layout()\n",
    "plot_sift_matches(axes, rgb2gray(et1), sift_matches, matches_color=\"#57ffd8\")\n",
    "plt.show()"
   ]
  },
  {
   "cell_type": "code",
   "execution_count": 176,
   "metadata": {},
   "outputs": [],
   "source": [
    "# Calibration matrix\n",
    "K = np.array([[677.6328,0.0,240.50],[0.0,682.6328,320.50],[0.0,0.0,1.00]])"
   ]
  },
  {
   "cell_type": "code",
   "execution_count": 177,
   "metadata": {},
   "outputs": [
    {
     "data": {
      "text/plain": [
       "array([[677.6328,   0.    , 240.5   ],\n",
       "       [  0.    , 682.6328, 320.5   ],\n",
       "       [  0.    ,   0.    ,   1.    ]])"
      ]
     },
     "execution_count": 177,
     "metadata": {},
     "output_type": "execute_result"
    }
   ],
   "source": [
    "K"
   ]
  },
  {
   "cell_type": "code",
   "execution_count": 204,
   "metadata": {},
   "outputs": [
    {
     "name": "stdout",
     "output_type": "stream",
     "text": [
      "\\begin{bmatrix}\n",
      "  677.6328 & 0. & 240.5\\\\\n",
      "  0. & 682.6328 & 320.5\\\\\n",
      "  0. & 0. & 1.\\\\\n",
      "\\end{bmatrix}\n"
     ]
    }
   ],
   "source": [
    "print(bmatrix(K))"
   ]
  },
  {
   "cell_type": "code",
   "execution_count": 122,
   "metadata": {},
   "outputs": [
    {
     "data": {
      "application/vnd.jupyter.widget-view+json": {
       "model_id": "3b04dd1b128944b3944f5dc6c3196f45",
       "version_major": 2,
       "version_minor": 0
      },
      "text/plain": [
       "Canvas(toolbar=Toolbar(toolitems=[('Home', 'Reset original view', 'home', 'home'), ('Back', 'Back to previous …"
      ]
     },
     "metadata": {},
     "output_type": "display_data"
    }
   ],
   "source": [
    "filtered_sift_matches = np.array(list(filter(lambda x: la.norm(x[:2] - x[3:5]) <= 200, sift_matches)))\n",
    "fig,axes = plt.subplots()\n",
    "plot_sift_matches(axes, rgb2gray(et1), filtered_sift_matches, matches_color=\"#57ffd8\")\n",
    "plt.show()"
   ]
  },
  {
   "cell_type": "markdown",
   "metadata": {},
   "source": [
    "### (b)"
   ]
  },
  {
   "cell_type": "code",
   "execution_count": 123,
   "metadata": {},
   "outputs": [],
   "source": [
    "def compute_F(Axy, Bxy):\n",
    "    N = len(Axy)\n",
    "    A = np.zeros((N, 9), dtype=\"float\")\n",
    "    for i in range(N):\n",
    "        a = flatten([np.full(3, Bxy[i][j]) for j in range(3)])\n",
    "        b = flatten([Axy[i], Axy[i], Axy[i]])\n",
    "        A[i,] = np.multiply(a, b)\n",
    "    _, _, vt = la.svd(A, full_matrices=True)\n",
    "    Fhat = vt[-1,:].reshape((3, 3))\n",
    "    U, S, VT = la.svd(Fhat, full_matrices=True)\n",
    "    S[2] = 0.0\n",
    "    return U @ np.diag(S) @ VT"
   ]
  },
  {
   "cell_type": "code",
   "execution_count": 124,
   "metadata": {},
   "outputs": [],
   "source": [
    "# Ransac method\n",
    "def ransac(matches, iterations=None):\n",
    "    def simpson_dist(x, xp, F):\n",
    "        den = (xp.T @ F @ x)** 2\n",
    "        a,b = F @ x, F.T @ xp\n",
    "        num = a[:2].T @ a[:2] + b[:2].T @ b[:2]\n",
    "        return den/num\n",
    "    \n",
    "    N = len(matches)\n",
    "    if iterations is None:\n",
    "        iterations = 10 * N\n",
    "\n",
    "    Axy = matches[:,:3]\n",
    "    Bxy = matches[:,3:]\n",
    "    sets = []\n",
    "    for itr in range(iterations):\n",
    "        idx = np.random.randint(N, size=8)\n",
    "        cur_set = []\n",
    "        F = compute_F(Axy[idx], Bxy[idx])\n",
    "        assert la.matrix_rank(F) == 2\n",
    "        for i in range(N):\n",
    "            dist = simpson_dist(Axy[i], Bxy[i], F)\n",
    "            if dist <= 1.0:\n",
    "                cur_set.append(flatten([Axy[i], Bxy[i]]))\n",
    "        if len(cur_set) > 0:\n",
    "            sets.append(cur_set)\n",
    "    return np.array(sorted(sets, key=lambda x: len(x), reverse=True)[0], dtype=\"float\")"
   ]
  },
  {
   "cell_type": "code",
   "execution_count": 125,
   "metadata": {},
   "outputs": [
    {
     "data": {
      "text/plain": [
       "415"
      ]
     },
     "execution_count": 125,
     "metadata": {},
     "output_type": "execute_result"
    }
   ],
   "source": [
    "consensus_set = ransac(filtered_sift_matches)\n",
    "M = len(consensus_set)\n",
    "M"
   ]
  },
  {
   "cell_type": "code",
   "execution_count": 126,
   "metadata": {},
   "outputs": [
    {
     "data": {
      "text/plain": [
       "array([[-2.46748640e-06, -1.43590530e-05,  6.19579186e-03],\n",
       "       [ 4.73499398e-06, -1.96973184e-06,  3.55413979e-02],\n",
       "       [-7.25952489e-03, -3.02770122e-02, -9.98863866e-01]])"
      ]
     },
     "execution_count": 126,
     "metadata": {},
     "output_type": "execute_result"
    }
   ],
   "source": [
    "F = compute_F(consensus_set[:,:3], consensus_set[:,3:])\n",
    "F"
   ]
  },
  {
   "cell_type": "code",
   "execution_count": 203,
   "metadata": {},
   "outputs": [
    {
     "name": "stdout",
     "output_type": "stream",
     "text": [
      "\\begin{bmatrix}\n",
      "  -2.46748640e-06 & -1.43590530e-05 & 6.19579186e-03\\\\\n",
      "  4.73499398e-06 & -1.96973184e-06 & 3.55413979e-02\\\\\n",
      "  -7.25952489e-03 & -3.02770122e-02 & -9.98863866e-01\\\\\n",
      "\\end{bmatrix}\n"
     ]
    }
   ],
   "source": [
    "print(bmatrix(F))"
   ]
  },
  {
   "cell_type": "code",
   "execution_count": 127,
   "metadata": {},
   "outputs": [
    {
     "data": {
      "application/vnd.jupyter.widget-view+json": {
       "model_id": "e89e786d92b546feabe42aded8d5b618",
       "version_major": 2,
       "version_minor": 0
      },
      "text/plain": [
       "Canvas(toolbar=Toolbar(toolitems=[('Home', 'Reset original view', 'home', 'home'), ('Back', 'Back to previous …"
      ]
     },
     "metadata": {},
     "output_type": "display_data"
    }
   ],
   "source": [
    "fig,axes = plt.subplots()\n",
    "plot_sift_matches(axes, rgb2gray(et1), consensus_set, matches_color=\"#57ffd8\")\n",
    "plt.show()"
   ]
  },
  {
   "cell_type": "markdown",
   "metadata": {},
   "source": [
    "### (c)"
   ]
  },
  {
   "cell_type": "code",
   "execution_count": 128,
   "metadata": {},
   "outputs": [],
   "source": [
    "E = K.T @ F @ K\n",
    "U,S,VT = la.svd(E)\n",
    "detU, detVT = la.det(U), la.det(VT)\n",
    "if detU > 0 and detVT < 0:\n",
    "    E = -E\n",
    "    VT = -VT\n",
    "elif detU < 0 and detVT > 0:\n",
    "    E = -E\n",
    "    U = -U\n",
    "W = np.array([[0, -1, 0],[1,0,0], [0,0,1]])\n",
    "u3 = U[:, -1]\n",
    "P1 = K @ np.c_[np.eye(3), [0,0,0]]\n",
    "Ps = np.array([np.c_[U@W@VT, u3], np.c_[U@W@VT, -u3], np.c_[U@W.T@VT, u3], np.c_[U@W.T@VT, -u3]])"
   ]
  },
  {
   "cell_type": "code",
   "execution_count": 129,
   "metadata": {},
   "outputs": [
    {
     "data": {
      "text/plain": [
       "array([2.48013292e+01, 2.47187515e+01, 1.48593365e-15])"
      ]
     },
     "execution_count": 129,
     "metadata": {},
     "output_type": "execute_result"
    }
   ],
   "source": [
    "S"
   ]
  },
  {
   "cell_type": "code",
   "execution_count": 130,
   "metadata": {},
   "outputs": [
    {
     "data": {
      "text/plain": [
       "array([[ -1.13303573,  -6.64212996,   0.67782586],\n",
       "       [  2.19028689,  -0.91787049,  24.60813759],\n",
       "       [ -4.29306793, -23.45639855,  -0.65433229]])"
      ]
     },
     "execution_count": 130,
     "metadata": {},
     "output_type": "execute_result"
    }
   ],
   "source": [
    "E"
   ]
  },
  {
   "cell_type": "code",
   "execution_count": 202,
   "metadata": {},
   "outputs": [
    {
     "name": "stdout",
     "output_type": "stream",
     "text": [
      "\\begin{bmatrix}\n",
      "  -1.13303573 & -6.64212996 & 0.67782586\\\\\n",
      "  2.19028689 & -0.91787049 & 24.60813759\\\\\n",
      "  -4.29306793 & -23.45639855 & -0.65433229\\\\\n",
      "\\end{bmatrix}\n"
     ]
    }
   ],
   "source": [
    "print(bmatrix(E))"
   ]
  },
  {
   "cell_type": "markdown",
   "metadata": {},
   "source": [
    "### (d)"
   ]
  },
  {
   "cell_type": "code",
   "execution_count": 181,
   "metadata": {},
   "outputs": [],
   "source": [
    "def triangulation(P1, P2, match):\n",
    "    A = np.array([\n",
    "        flatten([match[1] * P1[2, :].T - P1[1, :].T]),\n",
    "        flatten([P1[0,:].T - match[0] * P1[2, :].T]),\n",
    "        flatten([match[4] * P2[2, :].T - P2[1, :].T]),\n",
    "        flatten([P2[0,:].T - match[3] * P2[2, :].T]),\n",
    "    ])\n",
    "    _,_,VT = la.svd(A, full_matrices=True)\n",
    "    X = VT[-1, :]\n",
    "    X_homo = X / X[-1]\n",
    "    return X_homo[:3]"
   ]
  },
  {
   "cell_type": "code",
   "execution_count": 182,
   "metadata": {},
   "outputs": [],
   "source": [
    "# Determine other camera matrix\n",
    "idx = np.random.randint(len(consensus_set), size=1)[0]\n",
    "z_axis = np.array([0, 0, 1])\n",
    "k = 0\n",
    "for i in range(len(Ps)):\n",
    "    cur_P2 = K @ Ps[i]\n",
    "    X_homo = triangulation(P1, cur_P2, consensus_set[idx])\n",
    "    v1 = z_axis.T @ X_homo\n",
    "    v2 = z_axis.T @ Ps[i][:, :3] @ (X_homo - Ps[i][:, 3:].flatten())\n",
    "    if v1 > 0 and v2 > 0:\n",
    "        k = i\n",
    "        break\n",
    "P2 = K @ Ps[k]"
   ]
  },
  {
   "cell_type": "code",
   "execution_count": 154,
   "metadata": {},
   "outputs": [
    {
     "data": {
      "text/plain": [
       "array([[677.6328,   0.    , 240.5   ,   0.    ],\n",
       "       [  0.    , 682.6328, 320.5   ,   0.    ],\n",
       "       [  0.    ,   0.    ,   1.    ,   0.    ]])"
      ]
     },
     "execution_count": 154,
     "metadata": {},
     "output_type": "execute_result"
    }
   ],
   "source": [
    "P1"
   ]
  },
  {
   "cell_type": "code",
   "execution_count": 201,
   "metadata": {},
   "outputs": [
    {
     "name": "stdout",
     "output_type": "stream",
     "text": [
      "\\begin{bmatrix}\n",
      "  677.6328 & 0. & 240.5 & 0.\\\\\n",
      "  0. & 682.6328 & 320.5 & 0.\\\\\n",
      "  0. & 0. & 1. & 0.\\\\\n",
      "\\end{bmatrix}\n"
     ]
    }
   ],
   "source": [
    "print(bmatrix(P1))"
   ]
  },
  {
   "cell_type": "code",
   "execution_count": 184,
   "metadata": {},
   "outputs": [
    {
     "data": {
      "text/plain": [
       "array([[ 6.15245578e+02, -9.90650693e+01,  3.58727546e+02,\n",
       "        -5.86665173e+02],\n",
       "       [ 4.15055737e+01,  6.76564165e+02,  3.30523838e+02,\n",
       "         1.09889535e+02],\n",
       "       [-1.81728375e-01,  4.47244137e-03,  9.83338596e-01,\n",
       "         2.71080361e-01]])"
      ]
     },
     "execution_count": 184,
     "metadata": {},
     "output_type": "execute_result"
    }
   ],
   "source": [
    "P2"
   ]
  },
  {
   "cell_type": "code",
   "execution_count": 199,
   "metadata": {},
   "outputs": [
    {
     "name": "stdout",
     "output_type": "stream",
     "text": [
      "\\begin{bmatrix}\n",
      "  6.15245578e+02 & -9.90650693e+01 & 3.58727546e+02 & -5.86665173e+02\\\\\n",
      "  4.15055737e+01 & 6.76564165e+02 & 3.30523838e+02 & 1.09889535e+02\\\\\n",
      "  -1.81728375e-01 & 4.47244137e-03 & 9.83338596e-01 & 2.71080361e-01\\\\\n",
      "\\end{bmatrix}\n"
     ]
    }
   ],
   "source": [
    "print(bmatrix(P2))"
   ]
  },
  {
   "cell_type": "code",
   "execution_count": 186,
   "metadata": {},
   "outputs": [
    {
     "data": {
      "text/plain": [
       "array([[ 0.97243116, -0.14778017,  0.18038474, -0.96196642],\n",
       "       [ 0.14612471,  0.98901012,  0.02250671,  0.03370521],\n",
       "       [-0.18172837,  0.00447244,  0.9833386 ,  0.27108036]])"
      ]
     },
     "execution_count": 186,
     "metadata": {},
     "output_type": "execute_result"
    }
   ],
   "source": [
    "Ps[k]"
   ]
  },
  {
   "cell_type": "code",
   "execution_count": 198,
   "metadata": {},
   "outputs": [
    {
     "name": "stdout",
     "output_type": "stream",
     "text": [
      "\\begin{bmatrix}\n",
      "  0.97243116 & -0.14778017 & 0.18038474 & -0.96196642\\\\\n",
      "  0.14612471 & 0.98901012 & 0.02250671 & 0.03370521\\\\\n",
      "  -0.18172837 & 0.00447244 & 0.9833386 & 0.27108036\\\\\n",
      "\\end{bmatrix}\n"
     ]
    }
   ],
   "source": [
    "print(bmatrix(Ps[k]))"
   ]
  },
  {
   "cell_type": "markdown",
   "metadata": {},
   "source": [
    "### (e)"
   ]
  },
  {
   "cell_type": "code",
   "execution_count": 188,
   "metadata": {},
   "outputs": [],
   "source": [
    "world_corres = []\n",
    "world_colors = []\n",
    "px, py, _ = K[:, 2:].flatten()\n",
    "for x in consensus_set:\n",
    "    X = triangulation(P1, P2, x)\n",
    "    if X[2] <= 9:\n",
    "        world_colors.append(et1[int(round(x[1])), int(round(x[0]))])\n",
    "        world_corres.append(X)"
   ]
  },
  {
   "cell_type": "code",
   "execution_count": 189,
   "metadata": {},
   "outputs": [],
   "source": [
    "world_colors = np.array(world_colors)\n",
    "world_corres = np.array(world_corres)"
   ]
  },
  {
   "cell_type": "code",
   "execution_count": 190,
   "metadata": {},
   "outputs": [
    {
     "data": {
      "application/vnd.jupyter.widget-view+json": {
       "model_id": "d9ed66890dca4af58d5dab534bfdb1da",
       "version_major": 2,
       "version_minor": 0
      },
      "text/plain": [
       "Canvas(toolbar=Toolbar(toolitems=[('Home', 'Reset original view', 'home', 'home'), ('Back', 'Back to previous …"
      ]
     },
     "metadata": {},
     "output_type": "display_data"
    }
   ],
   "source": [
    "fig = plt.figure()\n",
    "ax = fig.gca(projection='3d')\n",
    "X, Y, Z = world_corres[:, 0], world_corres[:, 1], world_corres[:, 2]\n",
    "\n",
    "ax.scatter3D(X,\n",
    "             Y,\n",
    "             Z,\n",
    "             facecolors=world_colors/255,\n",
    "             zorder=-1,\n",
    "             s=5\n",
    "            )\n",
    "\n",
    "# camera centre 1\n",
    "x0,y0,z0 = [0, 0, 0]\n",
    "x1,y1,z1 = [1, 0, 0]\n",
    "x2,y2,z2 = [0, 1, 0]\n",
    "x3,y3,z3 = [0, 0, 1]\n",
    "\n",
    "ax.plot3D([x0, x1], [y0, y1], [z0, z1], color='paleturquoise', zorder=100)\n",
    "ax.plot3D([x0, x2], [y0, y2], [z0, z2], color='paleturquoise', zorder=100)\n",
    "ax.plot3D([x0, x3], [y0, y3], [z0, z3], color='paleturquoise', zorder=100)\n",
    "\n",
    "# camera centre 2\n",
    "cam2_R = Ps[k][:, :3]\n",
    "cam2_c = -cam2_R.T @ Ps[k][:, 3:].flatten()\n",
    "\n",
    "x4,y4,z4 = cam2_c\n",
    "x5,y5,z5 = cam2_R.T @ [1, 0, 0] + cam2_c\n",
    "x6,y6,z6 = cam2_R.T @ [0, 1, 0] + cam2_c\n",
    "x7,y7,z7 = cam2_R.T @ [0, 0, 1] + cam2_c\n",
    "\n",
    "ax.plot3D([x4, x5], [y4, y5], [z4, z5], color='bisque', zorder=100)\n",
    "ax.plot3D([x4, x6], [y4, y6], [z4, z6], color='bisque', zorder=100)\n",
    "ax.plot3D([x4, x7], [y4, y7], [z4, z7], color='bisque', zorder=100)\n",
    "\n",
    "\n",
    "ax.set_zlim(-max(world_corres[:,2]), max(world_corres[:, 2]))\n",
    "\n",
    "# labels for camera1 axes\n",
    "ax.text(x1, y1, z1, r'$x_1$', size=10, zorder=10, color='k')\n",
    "ax.text(x2, y2, z2, r'$y_1$', size=10, zorder=10, color='k')\n",
    "ax.text(x3, y3, z3, r'$z_1$', size=10, zorder=10, color='k')\n",
    "\n",
    "# lables for camera2 axes\n",
    "ax.text(x5, y5, z5, r'$x_2$', size=10, zorder=10, color='k')\n",
    "ax.text(x6, y6, z6, r'$y_2$', size=10, zorder=10, color='k')\n",
    "ax.text(x7, y7, z7, r'$z_2$', size=10, zorder=10, color='k')\n",
    "\n",
    "\n",
    "# axis labels\n",
    "ax.set_xlabel(r'$X$')\n",
    "ax.set_ylabel(r'$Y$')\n",
    "ax.set_zlabel(r'$Z$')\n",
    "\n",
    "\n",
    "# make the panes transparent\n",
    "ax.xaxis.set_pane_color((1.0, 1.0, 1.0, 0.0))\n",
    "ax.yaxis.set_pane_color((1.0, 1.0, 1.0, 0.0))\n",
    "ax.zaxis.set_pane_color((1.0, 1.0, 1.0, 0.0))\n",
    "\n",
    "# make the grid lines transparent\n",
    "ax.xaxis._axinfo[\"grid\"]['color'] =  (242/255,242/255,242/255,0)\n",
    "ax.yaxis._axinfo[\"grid\"]['color'] =  (242/255,242/255,242/255,0)\n",
    "ax.zaxis._axinfo[\"grid\"]['color'] =  (242/255,242/255,242/255,0)"
   ]
  },
  {
   "cell_type": "markdown",
   "metadata": {},
   "source": [
    "## Q2"
   ]
  },
  {
   "cell_type": "markdown",
   "metadata": {},
   "source": [
    "### (a)"
   ]
  },
  {
   "cell_type": "code",
   "execution_count": 231,
   "metadata": {},
   "outputs": [],
   "source": [
    "def apply_homography(A,H):\n",
    "    '''\n",
    "        Uses bilinear interpolation to transform an input image A according to a\n",
    "        given 3-by-3 projective transformation matrix H.\n",
    "        \n",
    "        Notes:\n",
    "        \n",
    "        1. This function follows the (x,y) convention for pixel coordinates,\n",
    "           which differs from the (row,column) convention. The matrix H must be\n",
    "           set up accordingly.\n",
    "        \n",
    "        2. The size of the output is determined automatically, and the output is\n",
    "           determined automatically, and the output will contain the entire\n",
    "           transformed image on a white background. This means that the origin of\n",
    "           the output image may no longer coincide with the top-left pixel. In\n",
    "           fact, after executing this function, the true origin (0,0) will be\n",
    "           located at point (1-minx, 1-miny) in the output image (why?).\n",
    "        \n",
    "    '''\n",
    "    \n",
    "    # cast the input image to double precision floats\n",
    "    A = A.astype(float)\n",
    "    \n",
    "    # determine number of rows, columns and channels of A\n",
    "    m, n, c = A.shape\n",
    "    \n",
    "    # determine size of output image by forward−transforming the four corners of A\n",
    "    p1 = np.dot(H,np.array([0,0,1]).reshape((3,1))); p1 = p1/p1[2];\n",
    "    p2 = np.dot(H,np.array([n-1, 0,1]).reshape((3,1))); p2 = p2/p2[2];\n",
    "    p3 = np.dot(H,np.array([0, m-1,1]).reshape((3,1))); p3 = p3/p3[2];\n",
    "    p4 = np.dot(H,np.array([n-1,m-1,1]).reshape((3,1))); p4 = p4/p4[2];\n",
    "    minx = np.floor(np.amin([p1[0], p2[0], p3[0] ,p4[0]]));\n",
    "    maxx = np.ceil(np.amax([p1[0], p2[0], p3[0] ,p4[0]]));\n",
    "    miny = np.floor(np.amin([p1[1], p2[1], p3[1] ,p4[1]]));\n",
    "    maxy = np.ceil(np.amax([p1[1], p2[1], p3[1] ,p4[1]]));\n",
    "    nn = int(maxx - minx)\n",
    "    mm = int(maxy - miny)\n",
    "\n",
    "    # initialise output with white pixels\n",
    "    B = np.zeros((mm,nn,c)) + 255\n",
    "\n",
    "    # pre-compute the inverse of H (we'll be applying that to the pixels in B)\n",
    "    Hi = la.inv(H)\n",
    "    \n",
    "    # Loop  through B's pixels\n",
    "    for x in range(nn):\n",
    "        for y in range(mm):\n",
    "            # compensate for the shift in B's origin\n",
    "            p = np.array([x + minx, y + miny, 1]).reshape((3,1))\n",
    "            \n",
    "            # apply the inverse of H\n",
    "            pp = np.dot(Hi,p)\n",
    "\n",
    "            # de-homogenise\n",
    "            xp = pp[0]/pp[2]\n",
    "            yp = pp[1]/pp[2]\n",
    "            \n",
    "            # perform bilinear interpolation\n",
    "            xpf = int(np.floor(xp)); xpc = xpf + 1;\n",
    "            ypf = int(np.floor(yp)); ypc = ypf + 1;\n",
    "\n",
    "            if ((xpf >= 0) and (xpc < n) and (ypf >= 0) and (ypc < m)):\n",
    "                B[y,x,:] = (xpc - xp)*(ypc - yp)*A[ypf,xpf,:] \\\n",
    "                            + (xpc - xp)*(yp - ypf)*A[ypc,xpf,:] \\\n",
    "                            + (xp - xpf)*(ypc - yp)*A[ypf,xpc,:] \\\n",
    "                            +  (xp - xpf)*(yp - ypf)*A[ypc,xpc,:] \\\n",
    "\n",
    "\n",
    "    return B.astype(np.uint8), miny"
   ]
  },
  {
   "cell_type": "code",
   "execution_count": 232,
   "metadata": {},
   "outputs": [],
   "source": [
    "kk  = np.array([0, 0, 1])\n",
    "R2 = Ps[k][:, :3]\n",
    "C2 = -R2.T @ Ps[k][:, 3:].flatten()\n",
    "r1 = C2 / la.norm(C2)\n",
    "r2 = np.cross(kk, r1) / la.norm(np.cross(kk, r1))\n",
    "r3 = np.cross(r1, r2)\n",
    "Rn = np.array([r1, r2, r3])\n",
    "T1 = K @ Rn @ la.inv(K)\n",
    "T2 = K @ Rn @ R2.T @ la.inv(K)"
   ]
  },
  {
   "cell_type": "code",
   "execution_count": 233,
   "metadata": {},
   "outputs": [
    {
     "data": {
      "text/plain": [
       "array([[ 1.01254555e+00, -1.81277806e-01, -9.53879428e+00],\n",
       "       [ 2.22458298e-01,  9.76306317e-01, -4.73204094e+01],\n",
       "       [ 1.36222826e-04, -2.43882116e-05,  9.70646051e-01]])"
      ]
     },
     "execution_count": 233,
     "metadata": {},
     "output_type": "execute_result"
    }
   ],
   "source": [
    "T1"
   ]
  },
  {
   "cell_type": "code",
   "execution_count": 243,
   "metadata": {},
   "outputs": [
    {
     "name": "stdout",
     "output_type": "stream",
     "text": [
      "\\begin{bmatrix}\n",
      "  1.04316661e+00 & -1.86759948e-01 & -9.82726326e+00\\\\\n",
      "  2.29185807e-01 & 1.00583144e+00 & -4.87514572e+01\\\\\n",
      "  1.40342431e-04 & -2.51257517e-05 & 1.00000000e+00\\\\\n",
      "\\end{bmatrix}\n"
     ]
    }
   ],
   "source": [
    "print(bmatrix(T1 / T1[2,2]))"
   ]
  },
  {
   "cell_type": "code",
   "execution_count": 235,
   "metadata": {},
   "outputs": [
    {
     "data": {
      "text/plain": [
       "array([[ 1.05843644e+00, -2.66125883e-02, -1.98319624e+02],\n",
       "       [ 1.55922518e-01,  1.00836582e+00, -7.13240170e+01],\n",
       "       [ 4.01122752e-04,  2.84646210e-05,  8.56560707e-01]])"
      ]
     },
     "execution_count": 235,
     "metadata": {},
     "output_type": "execute_result"
    }
   ],
   "source": [
    "T2"
   ]
  },
  {
   "cell_type": "code",
   "execution_count": 245,
   "metadata": {},
   "outputs": [
    {
     "name": "stdout",
     "output_type": "stream",
     "text": [
      "\\begin{bmatrix}\n",
      "  1.23568176e+00 & -3.10691211e-02 & -2.31530144e+02\\\\\n",
      "  1.82033237e-01 & 1.17722634e+00 & -8.32679067e+01\\\\\n",
      "  4.68294599e-04 & 3.32312944e-05 & 1.00000000e+00\\\\\n",
      "\\end{bmatrix}\n"
     ]
    }
   ],
   "source": [
    "print(bmatrix(T2 / T2[2,2]))"
   ]
  },
  {
   "cell_type": "code",
   "execution_count": 237,
   "metadata": {},
   "outputs": [],
   "source": [
    "warped_et1, miny1 = apply_homography(et1, T1)\n",
    "warped_et2, miny2 = apply_homography(et2, T2)"
   ]
  },
  {
   "cell_type": "code",
   "execution_count": 238,
   "metadata": {},
   "outputs": [
    {
     "data": {
      "application/vnd.jupyter.widget-view+json": {
       "model_id": "8e60ffa9fd3e4f18bbacf2532b68060c",
       "version_major": 2,
       "version_minor": 0
      },
      "text/plain": [
       "Canvas(toolbar=Toolbar(toolitems=[('Home', 'Reset original view', 'home', 'home'), ('Back', 'Back to previous …"
      ]
     },
     "metadata": {},
     "output_type": "display_data"
    },
    {
     "data": {
      "text/plain": [
       "<matplotlib.image.AxesImage at 0x7f421c86d8b0>"
      ]
     },
     "execution_count": 238,
     "metadata": {},
     "output_type": "execute_result"
    }
   ],
   "source": [
    "fig, axes = plt.subplots(1, 2)\n",
    "axes[0].set_axis_off()\n",
    "axes[0].imshow(warped_et1)\n",
    "axes[1].set_axis_off()\n",
    "axes[1].imshow(warped_et2)"
   ]
  },
  {
   "cell_type": "code",
   "execution_count": 239,
   "metadata": {},
   "outputs": [],
   "source": [
    "# Epipole\n",
    "PP1 = K @ Rn @ np.c_[np.eye(3), [0,0,0]]\n",
    "PP2 = K @ Rn @ np.c_[np.eye(3), C2]\n",
    "\n",
    "e_prime = PP2 @ np.append([0,0,0], 1.0)\n",
    "PP_plus = PP1.T @ la.inv(PP1 @ PP1.T)\n",
    "cross_mat = np.array([[0, -e_prime[2], e_prime[1]], [e_prime[2], 0, -e_prime[0]], [-e_prime[1], e_prime[0], 0]])\n",
    "new_F = cross_mat @ PP2 @ PP_plus"
   ]
  },
  {
   "cell_type": "code",
   "execution_count": 240,
   "metadata": {},
   "outputs": [
    {
     "data": {
      "text/plain": [
       "array([[ 4.77931510e-34,  2.43253729e-17,  3.12263558e-15],\n",
       "       [ 2.94971258e-18,  3.38846555e-17, -6.77632800e+02],\n",
       "       [ 2.47812713e-14,  6.77632800e+02, -6.99811377e-11]])"
      ]
     },
     "execution_count": 240,
     "metadata": {},
     "output_type": "execute_result"
    }
   ],
   "source": [
    "new_F"
   ]
  },
  {
   "cell_type": "code",
   "execution_count": 241,
   "metadata": {},
   "outputs": [
    {
     "name": "stdout",
     "output_type": "stream",
     "text": [
      "\\begin{bmatrix}\n",
      "  -2.46748640e-06 & -1.43590530e-05 & 6.19579186e-03\\\\\n",
      "  4.73499398e-06 & -1.96973184e-06 & 3.55413979e-02\\\\\n",
      "  -7.25952489e-03 & -3.02770122e-02 & -9.98863866e-01\\\\\n",
      "\\end{bmatrix}\n"
     ]
    }
   ],
   "source": [
    "print(bmatrix(F))"
   ]
  },
  {
   "cell_type": "code",
   "execution_count": 242,
   "metadata": {},
   "outputs": [
    {
     "name": "stderr",
     "output_type": "stream",
     "text": [
      "<ipython-input-242-4114f6f05a0d>:1: RuntimeWarning: More than 20 figures have been opened. Figures created through the pyplot interface (`matplotlib.pyplot.figure`) are retained until explicitly closed and may consume too much memory. (To control this warning, see the rcParam `figure.max_open_warning`).\n",
      "  fig, axes = plt.subplots(1, 2)\n"
     ]
    },
    {
     "data": {
      "application/vnd.jupyter.widget-view+json": {
       "model_id": "53e684abe1f640e8bc164c5c0b7e8dd8",
       "version_major": 2,
       "version_minor": 0
      },
      "text/plain": [
       "Canvas(toolbar=Toolbar(toolitems=[('Home', 'Reset original view', 'home', 'home'), ('Back', 'Back to previous …"
      ]
     },
     "metadata": {},
     "output_type": "display_data"
    }
   ],
   "source": [
    "fig, axes = plt.subplots(1, 2)\n",
    "axes[0].set_axis_off()\n",
    "axes[0].imshow(warped_et1)\n",
    "axes[1].set_axis_off()\n",
    "axes[1].imshow(warped_et2)\n",
    "\n",
    "#\n",
    "idx = np.random.randint(len(consensus_set), size=11)\n",
    "random_matches = consensus_set[idx]\n",
    "\n",
    "xp = np.array([0, np.shape(warped_et1)[1] - 50])\n",
    "x  = np.array([0, np.shape(warped_et1)[1] - 50])\n",
    "\n",
    "cmap = plt.get_cmap('jet')\n",
    "colors = [cmap(i) for i in np.linspace(0, 1, len(idx))]\n",
    "\n",
    "for i, color in enumerate(colors, start=0):\n",
    "    k2 = T2 @ random_matches[i][3:]\n",
    "    k2 = k2 / k2[-1]\n",
    "    \n",
    "    k1 = T1 @ random_matches[i][:3]\n",
    "    k1 = k1 / k1[-1]\n",
    "    \n",
    "    l   = new_F.T @ np.array(k1)\n",
    "    lp  = new_F @ np.array(k2)\n",
    "    \n",
    "    l_norm = l / la.norm(l)\n",
    "    lp_norm = lp / la.norm(lp)\n",
    "    ap,bp,cp = lp_norm\n",
    "    a,b,c = l_norm\n",
    "    yp = -(xp*ap + cp) / bp\n",
    "    y  = -(x*a + c) / b\n",
    "    \n",
    "    axes[0].plot(x, y - miny1, color=color, )\n",
    "    axes[1].plot(xp, yp - miny2, color=color)\n",
    "    \n",
    "plt.subplots_adjust(wspace=0, hspace=0)"
   ]
  },
  {
   "cell_type": "code",
   "execution_count": null,
   "metadata": {},
   "outputs": [],
   "source": []
  },
  {
   "cell_type": "code",
   "execution_count": null,
   "metadata": {},
   "outputs": [],
   "source": []
  }
 ],
 "metadata": {
  "kernelspec": {
   "display_name": "Python 3",
   "language": "python",
   "name": "python3"
  },
  "language_info": {
   "codemirror_mode": {
    "name": "ipython",
    "version": 3
   },
   "file_extension": ".py",
   "mimetype": "text/x-python",
   "name": "python",
   "nbconvert_exporter": "python",
   "pygments_lexer": "ipython3",
   "version": "3.8.3"
  }
 },
 "nbformat": 4,
 "nbformat_minor": 4
}
