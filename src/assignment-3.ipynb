{
 "cells": [
  {
   "cell_type": "code",
   "execution_count": 1,
   "metadata": {},
   "outputs": [],
   "source": [
    "%matplotlib widget\n",
    "\n",
    "import csv\n",
    "import numpy as np\n",
    "import matplotlib\n",
    "import matplotlib.pyplot as plt\n",
    "from mpl_toolkits.mplot3d import Axes3D\n",
    "import numpy.linalg as la\n",
    "\n",
    "from skimage import io\n",
    "from matplotlib.patches import ConnectionPatch\n",
    "\n",
    "# TeX typesetting\n",
    "from matplotlib import rc\n",
    "rc('font',**{'family':'sans-serif','sans-serif':['Helvetica']})\n",
    "rc('text', usetex=True)\n",
    "\n",
    "# Aesthetics\n",
    "plt.style.use('seaborn-pastel')"
   ]
  },
  {
   "cell_type": "code",
   "execution_count": 2,
   "metadata": {},
   "outputs": [],
   "source": [
    "def decomposeP(P):\n",
    "    '''\n",
    "        The input P is assumed to be a 3-by-4 homogeneous camera matrix.\n",
    "        The function returns a homogeneous 3-by-3 calibration matrix K,\n",
    "        a 3-by-3 rotation matrix R and a 3-by-1 vector c such that\n",
    "        K*R*[eye(3), -c] = P.\n",
    "\n",
    "    '''\n",
    "\n",
    "    W = np.array([[0, 0, 1],\n",
    "                  [0, 1, 0],\n",
    "                  [1, 0, 0]])\n",
    "\n",
    "    # calculate K and R up to sign\n",
    "    Qt, Rt = np.linalg.qr((W.dot(P[:,0:3])).T)\n",
    "    K = W.dot(Rt.T.dot(W))\n",
    "    R = W.dot(Qt.T)\n",
    "\n",
    "    # correct for negative focal length(s) if necessary\n",
    "    D = np.array([[1, 0, 0],\n",
    "                  [0, 1, 0],\n",
    "                  [0, 0, 1]])\n",
    "    if K[0,0] < 0:\n",
    "        D[0,0] = -1\n",
    "    if K[1,1] < 0:\n",
    "        D[1,1] = -1\n",
    "    if K[2,2] < 0:\n",
    "        D[2,2] = -1\n",
    "    K = K.dot(D)\n",
    "    R = D.dot(R)\n",
    "\n",
    "    # calculate c\n",
    "    c = -R.T.dot(np.linalg.inv(K).dot(P[:,3]))\n",
    "\n",
    "    return K, R, c"
   ]
  },
  {
   "cell_type": "markdown",
   "metadata": {},
   "source": [
    "# Q1"
   ]
  },
  {
   "cell_type": "markdown",
   "metadata": {},
   "source": [
    "## (a)"
   ]
  },
  {
   "cell_type": "code",
   "execution_count": 3,
   "metadata": {},
   "outputs": [],
   "source": [
    "lego1 = io.imread(\"../assets/assignment-3/lego1.jpg\")\n",
    "lego2 = io.imread(\"../assets/assignment-3/lego2.jpg\")"
   ]
  },
  {
   "cell_type": "code",
   "execution_count": 4,
   "metadata": {},
   "outputs": [
    {
     "data": {
      "application/vnd.jupyter.widget-view+json": {
       "model_id": "a7e69803801e4ee483b50b2cd462306b",
       "version_major": 2,
       "version_minor": 0
      },
      "text/plain": [
       "Canvas(toolbar=Toolbar(toolitems=[('Home', 'Reset original view', 'home', 'home'), ('Back', 'Back to previous …"
      ]
     },
     "metadata": {},
     "output_type": "display_data"
    },
    {
     "data": {
      "text/plain": [
       "<matplotlib.image.AxesImage at 0x7f5a38ca8670>"
      ]
     },
     "execution_count": 4,
     "metadata": {},
     "output_type": "execute_result"
    }
   ],
   "source": [
    "fig,ax = plt.subplots()\n",
    "ax.imshow(lego1)"
   ]
  },
  {
   "cell_type": "code",
   "execution_count": 5,
   "metadata": {},
   "outputs": [],
   "source": [
    "lego1_cam_corres = np.empty((28,3))"
   ]
  },
  {
   "cell_type": "code",
   "execution_count": 6,
   "metadata": {},
   "outputs": [],
   "source": [
    "# X\n",
    "lego1_cam_corres[0] = [1548.52,1840.55,1]\n",
    "lego1_cam_corres[1] = [1615.52,1805.56,1]\n",
    "lego1_cam_corres[2] = [1747.59,1734.53,1]\n",
    "lego1_cam_corres[3] = [1874.48,1667.52,1]\n",
    "lego1_cam_corres[4] = [1993.48,1604.53,1]\n",
    "lego1_cam_corres[5] = [2112.45,1542.50,1]\n",
    "lego1_cam_corres[6] = [2220.60,1483.51,1]\n",
    "lego1_cam_corres[7] = [2325.48,1425.50,1]\n",
    "lego1_cam_corres[8] = [2428.53,1367.50,1]\n",
    "\n",
    "# Y\n",
    "lego1_cam_corres[9] = [1306.50,1793.51,1]\n",
    "lego1_cam_corres[10] = [1072.50,1747.50,1]\n",
    "lego1_cam_corres[11] = [844.50,1701.51,1]\n",
    "lego1_cam_corres[12] = [627.50,1657.51,1]\n",
    "lego1_cam_corres[13] = [407.50,1614.5,1]\n",
    "lego1_cam_corres[14] = [197.51,1570.50,1]\n",
    "\n",
    "# Z\n",
    "lego1_cam_corres[15] = [1552.50,1760.54,1]\n",
    "lego1_cam_corres[16] = [1552.50,1679.50,1]\n",
    "lego1_cam_corres[17] = [1552.50,1599.52,1]\n",
    "lego1_cam_corres[18] = [1552.50,1517.54,1]\n",
    "lego1_cam_corres[19] = [1552.50,1434.50,1]\n",
    "lego1_cam_corres[20] = [1552.50,1357.50,1]\n",
    "lego1_cam_corres[21] = [1552.50,1269.57,1]\n",
    "lego1_cam_corres[22] = [1552.50,1187.51,1]\n",
    "lego1_cam_corres[23] = [1552.50,1102.56,1]\n",
    "lego1_cam_corres[24] = [1552.50,1019.51,1]\n",
    "lego1_cam_corres[25] = [1552.50,937.483,1]\n",
    "lego1_cam_corres[26] = [1552.50,851.521,1]\n",
    "lego1_cam_corres[27] = [1552.50,766.51,1]"
   ]
  },
  {
   "cell_type": "code",
   "execution_count": 7,
   "metadata": {},
   "outputs": [
    {
     "data": {
      "application/vnd.jupyter.widget-view+json": {
       "model_id": "fe16c5ca29e3440388dda489a1ed862e",
       "version_major": 2,
       "version_minor": 0
      },
      "text/plain": [
       "Canvas(toolbar=Toolbar(toolitems=[('Home', 'Reset original view', 'home', 'home'), ('Back', 'Back to previous …"
      ]
     },
     "metadata": {},
     "output_type": "display_data"
    },
    {
     "data": {
      "text/plain": [
       "<matplotlib.patches.ConnectionPatch at 0x7f5a6cc17910>"
      ]
     },
     "execution_count": 7,
     "metadata": {},
     "output_type": "execute_result"
    }
   ],
   "source": [
    "fig,ax = plt.subplots()\n",
    "ax.imshow(lego1)\n",
    "ax.plot(lego1_cam_corres[:, [0]], lego1_cam_corres[:, [1]], 'yo', markersize=4)\n",
    "\n",
    "# origin and arrow heads\n",
    "x0 = lego1_cam_corres[0][[0,1]]\n",
    "x1 = lego1_cam_corres[8][[0,1]]\n",
    "x2 = lego1_cam_corres[14][[0,1]]\n",
    "x3 = lego1_cam_corres[27][[0,1]]\n",
    "\n",
    "# arrow connections\n",
    "coordsA = \"data\"\n",
    "coordsB = \"data\"\n",
    "conY = ConnectionPatch(x0, x1, coordsA, coordsB,\n",
    "                      arrowstyle=\"-|>\")\n",
    "conX = ConnectionPatch(x0, x2, coordsA, coordsB,\n",
    "                      arrowstyle=\"-|>\")\n",
    "conZ = ConnectionPatch(x0, x3, coordsA, coordsB,\n",
    "                      arrowstyle=\"-|>\")\n",
    "\n",
    "# aesthetics.\n",
    "conX.set_color([1.0,0,0])\n",
    "conX.set_linewidth(2)\n",
    "conY.set_color([1.0,0,0])\n",
    "conY.set_linewidth(2)\n",
    "conZ.set_color([1.0,0,0])\n",
    "conZ.set_linewidth(2)\n",
    "\n",
    "# add connections to axes\n",
    "ax.add_artist(conX)\n",
    "ax.add_artist(conY)\n",
    "ax.add_artist(conZ)"
   ]
  },
  {
   "cell_type": "code",
   "execution_count": 8,
   "metadata": {},
   "outputs": [],
   "source": [
    "# lego dimensions (mm)\n",
    "h = 9.6\n",
    "w = 32\n",
    "b = 16"
   ]
  },
  {
   "cell_type": "code",
   "execution_count": 9,
   "metadata": {},
   "outputs": [],
   "source": [
    "x = [[i*w + b,0,0,1] for i in range(0,8)]\n",
    "y = [[0,i*w,0,1] for i in range(1,7)]\n",
    "z = [[0,0,i*h,1] for i in range(1,14)]\n",
    "world_corres = np.array([[0,0,0,1]] + x + y + z)"
   ]
  },
  {
   "cell_type": "code",
   "execution_count": 10,
   "metadata": {},
   "outputs": [
    {
     "data": {
      "application/vnd.jupyter.widget-view+json": {
       "model_id": "33f3bc4cea9e45e99509bfbab31c1db6",
       "version_major": 2,
       "version_minor": 0
      },
      "text/plain": [
       "Canvas(toolbar=Toolbar(toolitems=[('Home', 'Reset original view', 'home', 'home'), ('Back', 'Back to previous …"
      ]
     },
     "metadata": {},
     "output_type": "display_data"
    }
   ],
   "source": [
    "fig = plt.figure()\n",
    "ax = fig.gca(projection='3d')\n",
    "ax.plot3D(world_corres[:,0],world_corres[:,1],world_corres[:,2], 'ro')\n",
    "\n",
    "# axis labels\n",
    "ax.set_xlabel(r'$X(mm)$')\n",
    "ax.set_ylabel(r'$Y(mm)$')\n",
    "ax.set_zlabel(r'$Z(mm)$')\n",
    "\n",
    "# make the panes transparent\n",
    "ax.xaxis.set_pane_color((1.0, 1.0, 1.0, 0.0))\n",
    "ax.yaxis.set_pane_color((1.0, 1.0, 1.0, 0.0))\n",
    "ax.zaxis.set_pane_color((1.0, 1.0, 1.0, 0.0))\n",
    "\n",
    "# make the grid lines transparent\n",
    "ax.xaxis._axinfo[\"grid\"]['color'] =  (242/255,242/255,242/255,1.0)\n",
    "ax.yaxis._axinfo[\"grid\"]['color'] =  (242/255,242/255,242/255,1.0)\n",
    "ax.zaxis._axinfo[\"grid\"]['color'] =  (242/255,242/255,242/255,1.0)"
   ]
  },
  {
   "cell_type": "markdown",
   "metadata": {},
   "source": [
    "## (c)"
   ]
  },
  {
   "cell_type": "code",
   "execution_count": 11,
   "metadata": {},
   "outputs": [],
   "source": [
    "# small utils\n",
    "flatten = lambda l: [item for sl in l for item in sl]\n",
    "zeros = np.zeros(4)"
   ]
  },
  {
   "cell_type": "code",
   "execution_count": 12,
   "metadata": {},
   "outputs": [],
   "source": [
    "# stack correspondences\n",
    "lego1_A = []\n",
    "for i in range(len(world_corres)):\n",
    "    X = world_corres[i]\n",
    "    xi, yi, _ = lego1_cam_corres[i]\n",
    "    x = flatten([zeros,-X, yi*X])\n",
    "    y = flatten([X, zeros, -xi*X])\n",
    "    lego1_A.append(x)\n",
    "    lego1_A.append(y)\n",
    "lego1_A = np.array(lego1_A)"
   ]
  },
  {
   "cell_type": "code",
   "execution_count": 13,
   "metadata": {},
   "outputs": [
    {
     "name": "stdout",
     "output_type": "stream",
     "text": [
      "[[ 2.21419526e-03 -2.88747997e-03 -1.41363984e-04  6.44022641e-01]\n",
      " [-4.25733657e-04 -2.81787236e-04 -3.65312618e-03  7.64988758e-01]\n",
      " [ 2.85448133e-07  1.91968592e-07 -9.73180520e-08  4.15370465e-04]]\n"
     ]
    }
   ],
   "source": [
    "_, _, lego1_vh = la.svd(lego1_A)\n",
    "lego1_P = lego1_vh[-1,:].reshape((3,4))\n",
    "print(lego1_P)"
   ]
  },
  {
   "cell_type": "code",
   "execution_count": 14,
   "metadata": {},
   "outputs": [],
   "source": [
    "lego1_K,lego1_R,lego1_c = decomposeP(lego1_P)"
   ]
  },
  {
   "cell_type": "code",
   "execution_count": 15,
   "metadata": {},
   "outputs": [
    {
     "data": {
      "text/plain": [
       "array([[1.01588835e+04, 1.97985883e+02, 7.15862960e+02],\n",
       "       [0.00000000e+00, 1.02214944e+04, 1.40759929e+03],\n",
       "       [0.00000000e+00, 0.00000000e+00, 1.00000000e+00]])"
      ]
     },
     "execution_count": 15,
     "metadata": {},
     "output_type": "execute_result"
    }
   ],
   "source": [
    "lego1_K / lego1_K[2,2]"
   ]
  },
  {
   "cell_type": "code",
   "execution_count": 16,
   "metadata": {},
   "outputs": [
    {
     "data": {
      "text/plain": [
       "array([[ 0.55782386, -0.82995877, -0.00098891],\n",
       "       [-0.22646355, -0.15106197, -0.96223414],\n",
       "       [ 0.79846528,  0.53698111, -0.27222138]])"
      ]
     },
     "execution_count": 16,
     "metadata": {},
     "output_type": "execute_result"
    }
   ],
   "source": [
    "lego1_R"
   ]
  },
  {
   "cell_type": "code",
   "execution_count": 17,
   "metadata": {},
   "outputs": [
    {
     "data": {
      "text/plain": [
       "array([-969.26410858, -538.03139178,  363.86574805])"
      ]
     },
     "execution_count": 17,
     "metadata": {},
     "output_type": "execute_result"
    }
   ],
   "source": [
    "lego1_c"
   ]
  },
  {
   "cell_type": "markdown",
   "metadata": {},
   "source": [
    "# Q2"
   ]
  },
  {
   "cell_type": "markdown",
   "metadata": {},
   "source": [
    "## (a)"
   ]
  },
  {
   "cell_type": "code",
   "execution_count": 18,
   "metadata": {},
   "outputs": [
    {
     "data": {
      "application/vnd.jupyter.widget-view+json": {
       "model_id": "11f76b3988174870ac8c64c0167def57",
       "version_major": 2,
       "version_minor": 0
      },
      "text/plain": [
       "Canvas(toolbar=Toolbar(toolitems=[('Home', 'Reset original view', 'home', 'home'), ('Back', 'Back to previous …"
      ]
     },
     "metadata": {},
     "output_type": "display_data"
    },
    {
     "data": {
      "text/plain": [
       "<matplotlib.image.AxesImage at 0x7f5a6d3c5f10>"
      ]
     },
     "execution_count": 18,
     "metadata": {},
     "output_type": "execute_result"
    }
   ],
   "source": [
    "fig,ax = plt.subplots()\n",
    "ax.imshow(lego2)"
   ]
  },
  {
   "cell_type": "code",
   "execution_count": 19,
   "metadata": {},
   "outputs": [],
   "source": [
    "lego2_cam_corres = np.empty((28,3))"
   ]
  },
  {
   "cell_type": "code",
   "execution_count": 20,
   "metadata": {},
   "outputs": [],
   "source": [
    "# X\n",
    "lego2_cam_corres[0] = [989.50 , 1772.50, 1]\n",
    "lego2_cam_corres[1] = [1093.50, 1754.50, 1]\n",
    "lego2_cam_corres[2] = [1299.50, 1715.50, 1]\n",
    "lego2_cam_corres[3] = [1499.50, 1676.50, 1]\n",
    "lego2_cam_corres[4] = [1693.50, 1642.50, 1]\n",
    "lego2_cam_corres[5] = [1882.50, 1608.50, 1]\n",
    "lego2_cam_corres[6] = [2067.60, 1573.50, 1]\n",
    "lego2_cam_corres[7] = [2246.50, 1538.50, 1]\n",
    "lego2_cam_corres[8] = [2422.50, 1504.50, 1]\n",
    "\n",
    "\n",
    "# Y\n",
    "lego2_cam_corres[9]  = [853.50, 1713.54, 1]\n",
    "lego2_cam_corres[10]  = [722.50, 1656.52, 1]\n",
    "lego2_cam_corres[11] = [594.50, 1599.50, 1]\n",
    "lego2_cam_corres[12] = [472.50, 1545.50, 1]\n",
    "lego2_cam_corres[13] = [355.50, 1495.50, 1]\n",
    "lego2_cam_corres[14] = [241.50, 1442.50, 1]\n",
    "\n",
    "# Z\n",
    "lego2_cam_corres[15] = [990.50, 1699.50, 1]\n",
    "lego2_cam_corres[16] = [991.50, 1625.50, 1]\n",
    "lego2_cam_corres[17] = [991.50, 1551.50, 1]\n",
    "lego2_cam_corres[18] = [992.50, 1478.50, 1]\n",
    "lego2_cam_corres[19] = [992.50, 1402.50, 1]\n",
    "lego2_cam_corres[20] = [992.50, 1328.50, 1]\n",
    "lego2_cam_corres[21] = [992.50, 1252.50, 1]\n",
    "lego2_cam_corres[22] = [992.50, 1177.50, 1]\n",
    "lego2_cam_corres[23] = [992.50, 1101.50, 1]\n",
    "lego2_cam_corres[24] = [994.50, 1026.53, 1]\n",
    "lego2_cam_corres[25] = [994.50, 951.50, 1]\n",
    "lego2_cam_corres[26] = [995.50, 874.50, 1]\n",
    "lego2_cam_corres[27] = [996.50, 789.50, 1]"
   ]
  },
  {
   "cell_type": "code",
   "execution_count": 30,
   "metadata": {},
   "outputs": [
    {
     "data": {
      "application/vnd.jupyter.widget-view+json": {
       "model_id": "094c8aee5b844429a2ed3c48a363f5c6",
       "version_major": 2,
       "version_minor": 0
      },
      "text/plain": [
       "Canvas(toolbar=Toolbar(toolitems=[('Home', 'Reset original view', 'home', 'home'), ('Back', 'Back to previous …"
      ]
     },
     "metadata": {},
     "output_type": "display_data"
    },
    {
     "data": {
      "text/plain": [
       "<matplotlib.patches.ConnectionPatch at 0x7f5a6d327640>"
      ]
     },
     "execution_count": 30,
     "metadata": {},
     "output_type": "execute_result"
    }
   ],
   "source": [
    "fig,ax = plt.subplots()\n",
    "ax.imshow(lego2)\n",
    "ax.plot(lego2_cam_corres[:, [0]], lego2_cam_corres[:, [1]], 'yo', markersize=4)\n",
    "\n",
    "# origin and arrow heads\n",
    "x0 = lego2_cam_corres[0][[0,1]]\n",
    "x1 = lego2_cam_corres[8][[0,1]]\n",
    "x2 = lego2_cam_corres[14][[0,1]]\n",
    "x3 = lego2_cam_corres[27][[0,1]]\n",
    "\n",
    "coordsA = \"data\"\n",
    "coordsB = \"data\"\n",
    "conY = ConnectionPatch(x0, x1, coordsA, coordsB,\n",
    "                      arrowstyle=\"-|>\")\n",
    "conX = ConnectionPatch(x0, x2, coordsA, coordsB,\n",
    "                      arrowstyle=\"-|>\")\n",
    "conZ = ConnectionPatch(x0, x3, coordsA, coordsB,\n",
    "                      arrowstyle=\"-|>\")\n",
    "\n",
    "# aesthetics\n",
    "conX.set_color([1.0,0,0])\n",
    "conX.set_linewidth(2)\n",
    "conY.set_color([1.0,0,0])\n",
    "conY.set_linewidth(2)\n",
    "conZ.set_color([1.0,0,0])\n",
    "conZ.set_linewidth(2)\n",
    "\n",
    "# add connnections to axes\n",
    "ax.add_artist(conX)\n",
    "ax.add_artist(conY)\n",
    "ax.add_artist(conZ)"
   ]
  },
  {
   "cell_type": "code",
   "execution_count": 37,
   "metadata": {},
   "outputs": [],
   "source": [
    "# stack correspondences\n",
    "lego2_A = []\n",
    "for i in range(len(world_corres)):\n",
    "    X = world_corres[i]\n",
    "    xi, yi, _ = lego2_cam_corres[i]\n",
    "    x = flatten([zeros,-X, yi*X])\n",
    "    y = flatten([X, zeros, -xi*X])\n",
    "    lego2_A.append(x)\n",
    "    lego2_A.append(y)\n",
    "lego2_A = np.array(lego2_A)"
   ]
  },
  {
   "cell_type": "code",
   "execution_count": 38,
   "metadata": {},
   "outputs": [
    {
     "name": "stdout",
     "output_type": "stream",
     "text": [
      "[[-3.44932524e-03  1.84988320e-03  9.52411705e-05 -4.87449000e-01]\n",
      " [ 2.30930612e-04  4.22745665e-04  3.95716210e-03 -8.73133444e-01]\n",
      " [-2.10502341e-07 -2.92004333e-07  1.18579858e-07 -4.92435491e-04]]\n"
     ]
    }
   ],
   "source": [
    "_, _, lego2_vh = la.svd(lego2_A)\n",
    "lego2_P = lego2_vh[-1,:].reshape((3,4))\n",
    "print(lego2_P)"
   ]
  },
  {
   "cell_type": "code",
   "execution_count": 39,
   "metadata": {},
   "outputs": [],
   "source": [
    "lego2_K,lego2_R,lego2_c = decomposeP(lego2_P)"
   ]
  },
  {
   "cell_type": "code",
   "execution_count": 40,
   "metadata": {},
   "outputs": [
    {
     "data": {
      "text/plain": [
       "array([[ 1.02387926e+04, -3.08263102e+01,  1.37296197e+03],\n",
       "       [ 0.00000000e+00,  1.03127170e+04,  2.06897030e+03],\n",
       "       [ 0.00000000e+00,  0.00000000e+00,  1.00000000e+00]])"
      ]
     },
     "execution_count": 40,
     "metadata": {},
     "output_type": "execute_result"
    }
   ],
   "source": [
    "lego2_K / lego2_K[2,2]"
   ]
  },
  {
   "cell_type": "code",
   "execution_count": 41,
   "metadata": {},
   "outputs": [
    {
     "data": {
      "text/plain": [
       "array([[-0.81390078,  0.58082162, -0.01455215],\n",
       "       [ 0.17051429,  0.26273407,  0.94968189],\n",
       "       [-0.55541911, -0.77046548,  0.31287785]])"
      ]
     },
     "execution_count": 41,
     "metadata": {},
     "output_type": "execute_result"
    }
   ],
   "source": [
    "lego2_R"
   ]
  },
  {
   "cell_type": "code",
   "execution_count": 42,
   "metadata": {},
   "outputs": [
    {
     "data": {
      "text/plain": [
       "array([ -688.36031714, -1039.1701425 ,   371.83252723])"
      ]
     },
     "execution_count": 42,
     "metadata": {},
     "output_type": "execute_result"
    }
   ],
   "source": [
    "lego2_c"
   ]
  },
  {
   "cell_type": "markdown",
   "metadata": {},
   "source": [
    "## (b)"
   ]
  },
  {
   "cell_type": "code",
   "execution_count": 43,
   "metadata": {},
   "outputs": [],
   "source": [
    "# distance (mm)\n",
    "dist = la.norm(lego2_c - lego1_c)\n",
    "\n",
    "# angle (radians)\n",
    "M1 = lego1_K @ lego1_R\n",
    "M2 = lego2_K @ lego2_R\n",
    "\n",
    "p_axis1 = la.det(M1) * M1[2, :]\n",
    "p_axis2 = la.det(M2) * M2[2, :]\n",
    "ang = np.arccos(np.dot(p_axis1, p_axis2) / (la.norm(p_axis1) * la.norm(p_axis2)))"
   ]
  },
  {
   "cell_type": "code",
   "execution_count": 44,
   "metadata": {},
   "outputs": [
    {
     "name": "stdout",
     "output_type": "stream",
     "text": [
      "The cameras were 574.5524 mm apart and they have angle of 19.5448 between their respective axis\n"
     ]
    }
   ],
   "source": [
    "print('The cameras were {:.4f} mm apart and they have angle of {:.4f} '\n",
    "         'between their respective axis'.format(dist, ang * 180.00/np.pi))"
   ]
  },
  {
   "cell_type": "code",
   "execution_count": 45,
   "metadata": {},
   "outputs": [],
   "source": [
    "dx1 = M1[0, :] / la.norm(M1[0, :])\n",
    "dy1 = M1[1, :] / la.norm(M1[1, :]) \n",
    "dz1 = p_axis1 / la.norm(p_axis1)\n",
    "\n",
    "dx2 = M2[0, :] / la.norm(M2[0, :])\n",
    "dy2 = M2[1, :] / la.norm(M2[1, :])\n",
    "dz2 = p_axis2 / la.norm(p_axis2)"
   ]
  },
  {
   "cell_type": "markdown",
   "metadata": {},
   "source": [
    "## (c)"
   ]
  },
  {
   "cell_type": "code",
   "execution_count": 46,
   "metadata": {},
   "outputs": [
    {
     "data": {
      "application/vnd.jupyter.widget-view+json": {
       "model_id": "cd06223fa34549c18df508fee879b8c5",
       "version_major": 2,
       "version_minor": 0
      },
      "text/plain": [
       "Canvas(toolbar=Toolbar(toolitems=[('Home', 'Reset original view', 'home', 'home'), ('Back', 'Back to previous …"
      ]
     },
     "metadata": {},
     "output_type": "display_data"
    },
    {
     "data": {
      "text/plain": [
       "<matplotlib.legend.Legend at 0x7f5a6d1dbd90>"
      ]
     },
     "execution_count": 46,
     "metadata": {},
     "output_type": "execute_result"
    }
   ],
   "source": [
    "fig = plt.figure()\n",
    "ax = fig.gca(projection='3d')\n",
    "ax.plot3D(world_corres[:,0],world_corres[:,1],world_corres[:,2], 'o', color='orange', label='object')\n",
    "\n",
    "# world axes labels\n",
    "ax.set_xlabel(r'$X(mm)$')\n",
    "ax.set_ylabel(r'$Y(mm)$')\n",
    "ax.set_zlabel(r'$Z(mm)$')\n",
    "\n",
    "# camera1 centre and camera1 axes directional axes\n",
    "x1,y1,z1 = lego1_c\n",
    "x2,y2,z2 =  lego1_R.T @ [100, 0, 0] + lego1_c\n",
    "x3,y3,z3 =  lego1_R.T @ [0, 100, 0] + lego1_c\n",
    "x4,y4,z4 =  lego1_R.T @ [0, 0, 100] + lego1_c\n",
    "\n",
    "ax.scatter3D(x1, y1, z1, color=\"pink\", label='camera 1')\n",
    "ax.plot3D([x1, x2], [y1,y2], [z1,z2], color='pink')\n",
    "ax.plot3D([x1, x3], [y1,y3], [z1,z3], color='pink')\n",
    "ax.plot3D([x1, x4], [y1,y4], [z1,z4], color='pink')\n",
    "\n",
    "\n",
    "# camera2 centre and camera2 axes directional axes\n",
    "x5,y5,z5 = lego2_c\n",
    "x6,y6,z6 = lego2_R.T @ [-100, 0, 0] + lego2_c\n",
    "x7,y7,z7 = lego2_R.T @ [0, -100, 0] + lego2_c\n",
    "x8,y8,z8 = lego2_R.T @ [0, 0, -100] + lego2_c\n",
    "\n",
    "ax.scatter3D(x5, y5, z5, color=\"magenta\", label='camera 2')\n",
    "ax.plot3D([x5, x6], [y5,y6], [z5,z6], color='magenta')\n",
    "ax.plot3D([x5, x7], [y5,y7], [z5,z7], color='magenta')\n",
    "ax.plot3D([x5, x8], [y5,y8], [z5,z8], color='magenta')\n",
    "\n",
    "\n",
    "# labels for camera-1 axes\n",
    "ax.text(x2, y2 - 50, z2, r'$x_1$', size=10, zorder=1, color='k')\n",
    "ax.text(x3, y3, z3 - 50, r'$y_1$', size=10, zorder=1, color='k')\n",
    "ax.text(x4 + 50, y4, z4, r'$z_1$', size=10, zorder=1, color='k')\n",
    "\n",
    "# lables for camera2 axes\n",
    "ax.text(x6, y6 - 50, z6, r'$x_2$', size=10, zorder=1, color='k')\n",
    "ax.text(x7, y7, z7 - 50, r'$y_2$', size=10, zorder=1, color='k')\n",
    "ax.text(x8 + 50, y8, z8, r'$z_2$', size=10, zorder=1, color='k')\n",
    "\n",
    "# make the panes transparent\n",
    "ax.xaxis.set_pane_color((1.0, 1.0, 1.0, 0.0))\n",
    "ax.yaxis.set_pane_color((1.0, 1.0, 1.0, 0.0))\n",
    "ax.zaxis.set_pane_color((1.0, 1.0, 1.0, 0.0))\n",
    "\n",
    "# make the grid lines transparent\n",
    "ax.xaxis._axinfo[\"grid\"]['color'] =  (242/255,242/255,242/255,1.0)\n",
    "ax.yaxis._axinfo[\"grid\"]['color'] =  (242/255,242/255,242/255,1.0)\n",
    "ax.zaxis._axinfo[\"grid\"]['color'] =  (242/255,242/255,242/255,1.0)\n",
    "\n",
    "ax.legend()"
   ]
  },
  {
   "cell_type": "markdown",
   "metadata": {},
   "source": [
    "# Q3"
   ]
  },
  {
   "cell_type": "code",
   "execution_count": 47,
   "metadata": {},
   "outputs": [],
   "source": [
    "# columns of P\n",
    "lego1_p1 = lego1_P[:, 0]\n",
    "lego1_p2 = lego1_P[:, 1]\n",
    "lego1_p3 = lego1_P[:, 2]\n",
    "lego1_p4 = lego1_P[:, 3]"
   ]
  },
  {
   "cell_type": "code",
   "execution_count": 48,
   "metadata": {},
   "outputs": [],
   "source": [
    "# Homogenize vectors\n",
    "lego1_p1 = lego1_p1 / lego1_p1[2]\n",
    "lego1_p2 = lego1_p2 / lego1_p2[2]\n",
    "lego1_p3 = lego1_p3 / lego1_p3[2]\n",
    "lego1_p4 = lego1_p4 / lego1_p4[2]"
   ]
  },
  {
   "cell_type": "code",
   "execution_count": 49,
   "metadata": {},
   "outputs": [],
   "source": [
    "# make an interval for axes lines\n",
    "lego1_X1, lego1_Y1 = np.linspace(lego1_p4[0], lego1_p1[0], 500), np.linspace(lego1_p4[1], lego1_p1[1], 500)\n",
    "lego1_X2, lego1_Y2 = np.linspace(lego1_p4[0], lego1_p2[0], 500), np.linspace(lego1_p4[1], lego1_p2[1], 500)\n",
    "lego1_X3, lego1_Y3 = np.linspace(lego1_p4[0], lego1_p3[0], 500), np.linspace(lego1_p4[1], lego1_p4[1] - lego1_p3[1], 500)"
   ]
  },
  {
   "cell_type": "code",
   "execution_count": 50,
   "metadata": {},
   "outputs": [
    {
     "data": {
      "application/vnd.jupyter.widget-view+json": {
       "model_id": "1d0788213d044868974b3fe0d73ad149",
       "version_major": 2,
       "version_minor": 0
      },
      "text/plain": [
       "Canvas(toolbar=Toolbar(toolitems=[('Home', 'Reset original view', 'home', 'home'), ('Back', 'Back to previous …"
      ]
     },
     "metadata": {},
     "output_type": "display_data"
    },
    {
     "data": {
      "text/plain": [
       "Text(1548.5161727109528, 1089.4375764569356, 'Z')"
      ]
     },
     "execution_count": 50,
     "metadata": {},
     "output_type": "execute_result"
    }
   ],
   "source": [
    "# cap axes lines at some point because they will end up failling outside the image range.\n",
    "\n",
    "fig,ax = plt.subplots()\n",
    "ax.imshow(lego1)\n",
    "\n",
    "ax.plot(lego1_X1[0:50], lego1_Y1[0:50], color='r')\n",
    "ax.plot(lego1_X2[0:30], lego1_Y2[0:30], color='r')\n",
    "ax.plot(lego1_X3[0:10], lego1_Y3[0:10], color='r')\n",
    "\n",
    "ax.text(lego1_X1[51], lego1_Y1[51], r'X', size=10, zorder=1, color='k')\n",
    "ax.text(lego1_X2[31], lego1_Y2[31], r'Y', size=10, zorder=1, color='k')\n",
    "ax.text(lego1_X3[10], lego1_Y3[10], r'Z', size=10, zorder=1, color='k')"
   ]
  },
  {
   "cell_type": "code",
   "execution_count": 51,
   "metadata": {},
   "outputs": [],
   "source": [
    "# columns of P'\n",
    "lego2_p1 = lego2_P[:, 0]\n",
    "lego2_p2 = lego2_P[:, 1]\n",
    "lego2_p3 = lego2_P[:, 2]\n",
    "lego2_p4 = lego2_P[:, 3]"
   ]
  },
  {
   "cell_type": "code",
   "execution_count": 52,
   "metadata": {},
   "outputs": [],
   "source": [
    "# De-homogenize vectors\n",
    "lego2_p1 = lego2_p1 / lego2_p1[2]\n",
    "lego2_p2 = lego2_p2 / lego2_p2[2]\n",
    "lego2_p3 = lego2_p3 / lego2_p3[2]\n",
    "lego2_p4 = lego2_p4 / lego2_p4[2]"
   ]
  },
  {
   "cell_type": "code",
   "execution_count": 53,
   "metadata": {},
   "outputs": [],
   "source": [
    "# make interval for axes lines\n",
    "lego2_X1, lego2_Y1 = np.linspace(lego2_p4[0], lego2_p1[0], 500), np.linspace(lego2_p4[1], lego2_p1[1], 500)\n",
    "lego2_X2, lego2_Y2 = np.linspace(lego2_p4[0], lego2_p2[0], 500), np.linspace(lego2_p4[1], lego2_p2[1], 500)\n",
    "lego2_X3, lego2_Y3 = np.linspace(lego2_p4[0], lego2_p3[0], 500), np.linspace(lego2_p4[1], lego2_p4[1] - lego2_p3[1], 500)"
   ]
  },
  {
   "cell_type": "code",
   "execution_count": 54,
   "metadata": {},
   "outputs": [
    {
     "data": {
      "application/vnd.jupyter.widget-view+json": {
       "model_id": "d9b45d9052b24b029a51cad5520dd882",
       "version_major": 2,
       "version_minor": 0
      },
      "text/plain": [
       "Canvas(toolbar=Toolbar(toolitems=[('Home', 'Reset original view', 'home', 'home'), ('Back', 'Back to previous …"
      ]
     },
     "metadata": {},
     "output_type": "display_data"
    },
    {
     "data": {
      "text/plain": [
       "Text(986.1324925500735, 1104.3288233073192, 'Z')"
      ]
     },
     "execution_count": 54,
     "metadata": {},
     "output_type": "execute_result"
    }
   ],
   "source": [
    "# cap axes lines interval!\n",
    "fig,ax = plt.subplots()\n",
    "\n",
    "ax.imshow(lego2)\n",
    "ax.plot(lego2_X1[0:30], lego2_Y1[0:30], color='r')\n",
    "ax.plot(lego2_X2[0:30], lego2_Y2[0:30], color='r')\n",
    "ax.plot(lego2_X3[0:10], lego2_Y3[0:10], color='r')\n",
    "\n",
    "ax.text(lego2_X1[31], lego2_Y1[31], 'X', size=10, zorder=1, color='k')\n",
    "ax.text(lego2_X2[31], lego2_Y2[31], 'Y', size=10, zorder=1, color='k')\n",
    "ax.text(lego2_X3[10], lego2_Y3[10], 'Z', size=10, zorder=1, color='k')"
   ]
  },
  {
   "cell_type": "markdown",
   "metadata": {},
   "source": [
    "# Q4"
   ]
  },
  {
   "cell_type": "markdown",
   "metadata": {},
   "source": [
    "### (a)"
   ]
  },
  {
   "cell_type": "code",
   "execution_count": 55,
   "metadata": {},
   "outputs": [],
   "source": [
    "# Epipoles\n",
    "e       = lego1_P @ np.append(lego2_c, 1.0)\n",
    "e_prime = lego2_P @ np.append(lego1_c, 1.0)"
   ]
  },
  {
   "cell_type": "code",
   "execution_count": 56,
   "metadata": {},
   "outputs": [
    {
     "data": {
      "text/plain": [
       "array([-1.23126444e+05,  4.45338262e+02,  1.00000000e+00])"
      ]
     },
     "execution_count": 56,
     "metadata": {},
     "output_type": "execute_result"
    }
   ],
   "source": [
    "homo_e = e / e[2]\n",
    "homo_e"
   ]
  },
  {
   "cell_type": "code",
   "execution_count": 57,
   "metadata": {},
   "outputs": [
    {
     "data": {
      "text/plain": [
       "array([-2.15002904e+04, -1.30982534e+03,  1.00000000e+00])"
      ]
     },
     "execution_count": 57,
     "metadata": {},
     "output_type": "execute_result"
    }
   ],
   "source": [
    "homo_e_prime = e_prime / e_prime[2]\n",
    "homo_e_prime"
   ]
  },
  {
   "cell_type": "markdown",
   "metadata": {},
   "source": [
    "## (b)"
   ]
  },
  {
   "cell_type": "code",
   "execution_count": 58,
   "metadata": {},
   "outputs": [
    {
     "data": {
      "text/plain": [
       "array([[-1.51637630e-06, -9.53310406e-05, -1.44251461e-01],\n",
       "       [ 1.88362528e-05,  1.31954329e-06,  2.31865318e+00],\n",
       "       [-7.93032954e-03, -2.04791668e+00, -6.44176206e+01]])"
      ]
     },
     "execution_count": 58,
     "metadata": {},
     "output_type": "execute_result"
    }
   ],
   "source": [
    "P_plus = lego1_P.T @ la.inv(lego1_P @ lego1_P.T)\n",
    "cross_mat = np.array([[0, -e_prime[2], e_prime[1]], [e_prime[2], 0, -e_prime[0]], [-e_prime[1], e_prime[0], 0]])\n",
    "F = cross_mat @ lego2_P @ P_plus\n",
    "F"
   ]
  },
  {
   "cell_type": "code",
   "execution_count": 59,
   "metadata": {},
   "outputs": [],
   "source": [
    "# matches\n",
    "lego1_kp = [[2231.09, 1123.55, 1.0], [848.828, 750.32,  1.0], [197.712, 1422.63, 1.0], [2456.44, 459.50, 1.0], [1308.64, 1715.55, 1.0]] \n",
    "lego2_kp = [[2075.45, 1229.97, 1.0], [596.282, 753.286, 1.0], [242.334, 1314.18, 1.0], [2447.76, 626.87, 1.0], [854.66, 1641.60, 1.0]]"
   ]
  },
  {
   "cell_type": "code",
   "execution_count": 60,
   "metadata": {},
   "outputs": [
    {
     "data": {
      "application/vnd.jupyter.widget-view+json": {
       "model_id": "2434487453a8471e9c6c2e866b62ed91",
       "version_major": 2,
       "version_minor": 0
      },
      "text/plain": [
       "Canvas(toolbar=Toolbar(toolitems=[('Home', 'Reset original view', 'home', 'home'), ('Back', 'Back to previous …"
      ]
     },
     "metadata": {},
     "output_type": "display_data"
    }
   ],
   "source": [
    "fig,ax = plt.subplots(1,2)\n",
    "ax[0].set_axis_off()\n",
    "ax[1].set_axis_off()\n",
    "ax[0].imshow(lego1)\n",
    "ax[1].imshow(lego2)\n",
    "\n",
    "xp = np.array([0, np.shape(lego1)[1] - 5])\n",
    "x  = np.array([0, np.shape(lego2)[1] - 5])\n",
    "for i in range(5):\n",
    "    l   = F.T @ np.array(lego2_kp[i])\n",
    "    lp  = F @ np.array(lego1_kp[i])\n",
    "    l_norm = l / la.norm(l)\n",
    "    lp_norm = lp / la.norm(lp)\n",
    "    ap,bp,cp = lp_norm\n",
    "    a,b,c = l_norm\n",
    "    yp = -(xp*ap + cp) / bp\n",
    "    y  = -(x*a + c) / b\n",
    "    \n",
    "    ax[0].plot(x, y)\n",
    "    ax[0].scatter(lego1_kp[i][0], lego1_kp[i][1], s=10, zorder=99, edgecolor='k')\n",
    "    \n",
    "    ax[1].plot(xp, yp)\n",
    "    ax[1].scatter(lego2_kp[i][0], lego2_kp[i][1], s=10, zorder=99, edgecolor='k')\n",
    "    \n",
    "plt.subplots_adjust(wspace=0, hspace=0)"
   ]
  },
  {
   "cell_type": "code",
   "execution_count": null,
   "metadata": {},
   "outputs": [],
   "source": []
  },
  {
   "cell_type": "code",
   "execution_count": null,
   "metadata": {},
   "outputs": [],
   "source": []
  }
 ],
 "metadata": {
  "kernelspec": {
   "display_name": "Python 3",
   "language": "python",
   "name": "python3"
  },
  "language_info": {
   "codemirror_mode": {
    "name": "ipython",
    "version": 3
   },
   "file_extension": ".py",
   "mimetype": "text/x-python",
   "name": "python",
   "nbconvert_exporter": "python",
   "pygments_lexer": "ipython3",
   "version": "3.8.2"
  }
 },
 "nbformat": 4,
 "nbformat_minor": 4
}
