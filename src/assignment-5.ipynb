{
 "cells": [
  {
   "cell_type": "code",
   "execution_count": 1168,
   "metadata": {},
   "outputs": [],
   "source": [
    "%matplotlib widget\n",
    "\n",
    "import os\n",
    "import csv\n",
    "import numpy as np\n",
    "import matplotlib\n",
    "import matplotlib.pyplot as plt\n",
    "import numpy.linalg as la\n",
    "from sklearn.cluster import KMeans\n",
    "from sklearn import svm, metrics\n",
    "\n",
    "from skimage import io\n",
    "from matplotlib.gridspec import GridSpec\n",
    "\n",
    "# TeX typesetting\n",
    "from matplotlib import rc\n",
    "rc('font',**{'family':'sans-serif','sans-serif':['Helvetica']})\n",
    "rc('text', usetex=True)\n",
    "\n",
    "# Aesthetics\n",
    "plt.close('all')\n",
    "plt.style.use('seaborn-pastel')"
   ]
  },
  {
   "cell_type": "markdown",
   "metadata": {},
   "source": [
    "# Helper functions"
   ]
  },
  {
   "cell_type": "code",
   "execution_count": 1169,
   "metadata": {},
   "outputs": [],
   "source": [
    "flatten = lambda l: np.array([item for sl in l for item in sl])\n",
    "vectorize_im = lambda im,m: flatten(im.reshape((m,1)))\n",
    "\n",
    "def bmatrix(a):\n",
    "    \"\"\"Returns a LaTeX bmatrix\n",
    "    :a: numpy array\n",
    "    :returns: LaTeX bmatrix as a string\n",
    "    \"\"\"\n",
    "    if len(a.shape) > 2:\n",
    "        raise ValueError('bmatrix can at most display two dimensions')\n",
    "    lines = str(a).replace('[', '').replace(']', '').splitlines()\n",
    "    rv = [r'\\begin{bmatrix}']\n",
    "    rv += ['  ' + ' & '.join(l.split()) + r'\\\\' for l in lines]\n",
    "    rv +=  [r'\\end{bmatrix}']\n",
    "    return '\\n'.join(rv)"
   ]
  },
  {
   "cell_type": "code",
   "execution_count": 1170,
   "metadata": {},
   "outputs": [],
   "source": [
    "def read_sift_descr(fname):\n",
    "    descr = []\n",
    "    with open(fname) as csv_file:\n",
    "        csv_reader = csv.reader(csv_file, delimiter=\" \")\n",
    "        for row in csv_reader:\n",
    "            descr.append(row)\n",
    "    return np.array(descr, dtype=\"float32\")"
   ]
  },
  {
   "cell_type": "code",
   "execution_count": 1171,
   "metadata": {},
   "outputs": [],
   "source": [
    "def norm_im(v):\n",
    "    mmin, mmax = np.min(v), np.max(v)\n",
    "    im_v = v.reshape((h, w))\n",
    "    output = np.zeros((h,w), dtype=\"float\")\n",
    "    fac = 255 / (mmax - mmin)\n",
    "    for i in range(h):\n",
    "        for j in range(w):\n",
    "            output[i][j] = fac * (im_v[i][j] - mmin)\n",
    "    return output.astype(np.uint8)"
   ]
  },
  {
   "cell_type": "code",
   "execution_count": 1172,
   "metadata": {},
   "outputs": [],
   "source": [
    "def build_dataset(folder):\n",
    "    classes = None\n",
    "    label_dict = None\n",
    "    train_descr = None\n",
    "    test_descr = None\n",
    "    \n",
    "    for dirpaths, dirs, fns in os.walk(folder):\n",
    "        if dirpaths == folder:\n",
    "            # Still in the top dir\n",
    "            n = len(dirs)\n",
    "            classes = sorted(dirs, key=lambda x: str.lower(x))\n",
    "            label_dict = {classes[i]:i for i in range(n)}\n",
    "            train_descr = [[] for i in range(n)]\n",
    "            test_descr  = [[] for i in range(n)]\n",
    "        if \"train\" in dirpaths:\n",
    "            cl = dirpaths.split('/')[-2]\n",
    "            cl_id = label_dict[cl]\n",
    "            descrs = []\n",
    "            for f in sorted(fns, key=lambda x:str.lower(x)):\n",
    "                if \"_descr\" in f:\n",
    "                    descr = read_sift_descr(\"{}/{}\".format(dirpaths, f))\n",
    "                    descrs.append(descr)\n",
    "            train_descr[cl_id] = descrs\n",
    "\n",
    "        elif \"test\" in dirpaths:\n",
    "            cl = dirpaths.split('/')[-2]\n",
    "            cl_id = label_dict[cl]\n",
    "            descrs = []\n",
    "            for f in sorted(fns, key=lambda x:str.lower(x)):\n",
    "                if \"_descr\" in f:\n",
    "                    descr = read_sift_descr(\"{}/{}\".format(dirpaths, f))\n",
    "                    descrs.append(descr)\n",
    "            test_descr[cl_id] = descrs\n",
    "            \n",
    "    return classes, label_dict, train_descr, test_descr"
   ]
  },
  {
   "cell_type": "code",
   "execution_count": 1173,
   "metadata": {},
   "outputs": [],
   "source": [
    "def build_bow_hists(kmeans_inst, descrs):\n",
    "    n = len(descrs)\n",
    "    bow_hists = [[] for k in range(n)]\n",
    "    labels = [[] for k in range(n)]\n",
    "    for i in range(n):\n",
    "        m = len(descrs[i])\n",
    "        word_hist = [] \n",
    "        label = []\n",
    "        for j in range(m):\n",
    "            word = kmeans_inst.predict(descrs[i][j])\n",
    "            hist, _ =  np.histogram(word,\n",
    "                                    bins=range(kmeans_inst.n_clusters+1),\n",
    "                                    density=True)\n",
    "            label.append(i)\n",
    "            word_hist.append(hist)\n",
    "        bow_hists[i] = word_hist\n",
    "        labels[i] = label\n",
    "    return  np.array(bow_hists), np.array(labels)"
   ]
  },
  {
   "cell_type": "markdown",
   "metadata": {},
   "source": [
    "# Q1"
   ]
  },
  {
   "cell_type": "code",
   "execution_count": 1174,
   "metadata": {},
   "outputs": [],
   "source": [
    "# global vars\n",
    "m = 0 # will modified, m = pq\n",
    "n = 40 # training set length\n",
    "test_sets = 2"
   ]
  },
  {
   "cell_type": "markdown",
   "metadata": {},
   "source": [
    "### (a)"
   ]
  },
  {
   "cell_type": "code",
   "execution_count": 1175,
   "metadata": {},
   "outputs": [],
   "source": [
    "training_f = []\n",
    "for i in range(1, n+1):\n",
    "    im = io.imread(\"../assets/assignment-5/problem1_files/faces_training/{}.pgm\".format(i))\n",
    "    h, w = np.shape(im)\n",
    "    m = w * h\n",
    "    training_f.append(vectorize_im(im, m))\n",
    "    \n",
    "training_f = np.array(training_f)\n",
    "a = np.mean(training_f, axis=0)\n",
    "X = np.empty((m, n))\n",
    "\n",
    "for i in range(0, n):\n",
    "    X[:,i] = training_f[i] - a\n",
    "X *= np.sqrt(1/2)\n",
    "\n",
    "U,S,VT = la.svd(X, full_matrices=True)"
   ]
  },
  {
   "cell_type": "code",
   "execution_count": 1176,
   "metadata": {},
   "outputs": [],
   "source": [
    "t = 2000 # threshold\n",
    "alpha = len(S[S > t])\n",
    "U_alpha = U[:, :alpha]\n",
    "training_y = []\n",
    "for j in range(len(training_f)):\n",
    "    y = U_alpha.T @ (training_f[j] - a)\n",
    "    training_y.append(y)"
   ]
  },
  {
   "cell_type": "code",
   "execution_count": 1177,
   "metadata": {},
   "outputs": [
    {
     "data": {
      "application/vnd.jupyter.widget-view+json": {
       "model_id": "56376aa12bd84ed2819f9143e0548489",
       "version_major": 2,
       "version_minor": 0
      },
      "text/plain": [
       "Canvas(toolbar=Toolbar(toolitems=[('Home', 'Reset original view', 'home', 'home'), ('Back', 'Back to previous …"
      ]
     },
     "metadata": {},
     "output_type": "display_data"
    },
    {
     "data": {
      "text/plain": [
       "<matplotlib.image.AxesImage at 0x7f064dd3eb80>"
      ]
     },
     "execution_count": 1177,
     "metadata": {},
     "output_type": "execute_result"
    }
   ],
   "source": [
    "fig, ax = plt.subplots()\n",
    "ax.set_axis_off()\n",
    "eig_face = norm_im(a)\n",
    "ax.imshow(eig_face, cmap=plt.cm.gray)"
   ]
  },
  {
   "cell_type": "code",
   "execution_count": 1178,
   "metadata": {},
   "outputs": [
    {
     "data": {
      "application/vnd.jupyter.widget-view+json": {
       "model_id": "5acf78b72805457888e3bf25f4adce54",
       "version_major": 2,
       "version_minor": 0
      },
      "text/plain": [
       "Canvas(toolbar=Toolbar(toolitems=[('Home', 'Reset original view', 'home', 'home'), ('Back', 'Back to previous …"
      ]
     },
     "metadata": {},
     "output_type": "display_data"
    }
   ],
   "source": [
    "fig, ax = plt.subplots(1,4)\n",
    "plt.subplots_adjust(wspace=0.1, hspace=0.0)\n",
    "for i in range(4):\n",
    "    ax[i].set_axis_off()\n",
    "    eig_face = norm_im(U_alpha[:, i])\n",
    "    ax[i].imshow(eig_face, cmap=plt.cm.gray)"
   ]
  },
  {
   "cell_type": "markdown",
   "metadata": {},
   "source": [
    "### (b)"
   ]
  },
  {
   "cell_type": "code",
   "execution_count": 1179,
   "metadata": {},
   "outputs": [],
   "source": [
    "tests_f = []\n",
    "tests_f_hat = []\n",
    "tests_y = []\n",
    "for j in range(1, 3):\n",
    "    for i in range(1, n+1):\n",
    "        im = io.imread(\"../assets/assignment-5/problem1_files/faces_test/test{}/{}.pgm\".format(j,i))\n",
    "        h, w = np.shape(im)\n",
    "        m = w * h\n",
    "        f = vectorize_im(im, m)\n",
    "        y = U_alpha.T @ (f - a)\n",
    "        f_hat = a + U_alpha @ y\n",
    "\n",
    "        tests_f.append(f)\n",
    "        tests_f_hat.append(f_hat)\n",
    "        tests_y.append(y)\n",
    "        \n",
    "tests_f = np.array(tests_f)\n",
    "tests_f_hat = np.array(tests_f_hat)\n",
    "tests_y = np.array(tests_y)"
   ]
  },
  {
   "cell_type": "code",
   "execution_count": 1180,
   "metadata": {},
   "outputs": [
    {
     "data": {
      "application/vnd.jupyter.widget-view+json": {
       "model_id": "b25cf3e699174d9d8701a51f9f3866ab",
       "version_major": 2,
       "version_minor": 0
      },
      "text/plain": [
       "Canvas(toolbar=Toolbar(toolitems=[('Home', 'Reset original view', 'home', 'home'), ('Back', 'Back to previous …"
      ]
     },
     "metadata": {},
     "output_type": "display_data"
    },
    {
     "data": {
      "text/plain": [
       "<matplotlib.image.AxesImage at 0x7f06462f24c0>"
      ]
     },
     "execution_count": 1180,
     "metadata": {},
     "output_type": "execute_result"
    }
   ],
   "source": [
    "fig, ax = plt.subplots(1, 2)\n",
    "plt.subplots_adjust(wspace=0.1)\n",
    "\n",
    "idx = np.random.randint(len(tests_f), size=1)[0]\n",
    "\n",
    "test_ims = norm_im(tests_f[idx])\n",
    "ax[0].set_axis_off()\n",
    "ax[0].set_title(r\"Original image\")\n",
    "ax[0].imshow(test_ims, cmap=plt.cm.gray)\n",
    "\n",
    "test_im = norm_im(tests_f_hat[idx])\n",
    "\n",
    "ax[1].set_axis_off()\n",
    "ax[1].set_title(r\"Reconstructed image\")\n",
    "ax[1].imshow(test_im, cmap=plt.cm.gray)"
   ]
  },
  {
   "cell_type": "markdown",
   "metadata": {},
   "source": [
    "### (c)"
   ]
  },
  {
   "cell_type": "code",
   "execution_count": 1181,
   "metadata": {},
   "outputs": [],
   "source": [
    "acc = 0\n",
    "c_neighbors = [] \n",
    "for i in range(0, test_sets):\n",
    "    for j in range(n):\n",
    "        specimen = tests_y[i*n + j]\n",
    "        match = sorted(training_y, key=lambda x: la.norm(specimen - x))[0] # sort and take first index.\n",
    "        idx, _ = np.where(training_y == match) # suspicious\n",
    "        if j == idx[0]:\n",
    "            acc += 1 \n",
    "        c_neighbors.append(idx[0])"
   ]
  },
  {
   "cell_type": "code",
   "execution_count": 1182,
   "metadata": {},
   "outputs": [
    {
     "data": {
      "text/plain": [
       "'accuracy = 78.75 %'"
      ]
     },
     "execution_count": 1182,
     "metadata": {},
     "output_type": "execute_result"
    }
   ],
   "source": [
    "\"accuracy = {:.2f} %\".format(100 * acc / 2 / n)"
   ]
  },
  {
   "cell_type": "code",
   "execution_count": 1183,
   "metadata": {},
   "outputs": [
    {
     "data": {
      "application/vnd.jupyter.widget-view+json": {
       "model_id": "9fba08cf900c45b2bc73d5a6ea591e74",
       "version_major": 2,
       "version_minor": 0
      },
      "text/plain": [
       "Canvas(toolbar=Toolbar(toolitems=[('Home', 'Reset original view', 'home', 'home'), ('Back', 'Back to previous …"
      ]
     },
     "metadata": {},
     "output_type": "display_data"
    },
    {
     "data": {
      "text/plain": [
       "<matplotlib.image.AxesImage at 0x7f0645b96790>"
      ]
     },
     "execution_count": 1183,
     "metadata": {},
     "output_type": "execute_result"
    }
   ],
   "source": [
    "fig, ax = plt.subplots(1, 2)\n",
    "plt.subplots_adjust(wspace=0.1)\n",
    "\n",
    "idx = np.random.randint(len(tests_y), size=1)[0]\n",
    "\n",
    "test_ims = norm_im(tests_f[idx])\n",
    "ax[0].set_axis_off()\n",
    "ax[0].set_title(r\"Test image\")\n",
    "ax[0].imshow(test_ims, cmap=plt.cm.gray)\n",
    "\n",
    "test_im = norm_im(training_f[c_neighbors[idx]])\n",
    "\n",
    "ax[1].set_axis_off()\n",
    "ax[1].set_title(r\"Matched image\")\n",
    "ax[1].imshow(test_im, cmap=plt.cm.gray)"
   ]
  },
  {
   "cell_type": "markdown",
   "metadata": {},
   "source": [
    "# Q2"
   ]
  },
  {
   "cell_type": "markdown",
   "metadata": {},
   "source": [
    "### (a)"
   ]
  },
  {
   "cell_type": "code",
   "execution_count": 1184,
   "metadata": {},
   "outputs": [],
   "source": [
    "classes, labels, train_descr, test_descr = build_dataset(\"../assets/assignment-5/problem2_files/sift\")"
   ]
  },
  {
   "cell_type": "code",
   "execution_count": 1185,
   "metadata": {},
   "outputs": [],
   "source": [
    "all_train_descr = flatten(flatten(train_descr))\n",
    "all_test_descr = flatten(flatten(test_descr))"
   ]
  },
  {
   "cell_type": "code",
   "execution_count": 1186,
   "metadata": {},
   "outputs": [
    {
     "data": {
      "text/plain": [
       "(556114, 128)"
      ]
     },
     "execution_count": 1186,
     "metadata": {},
     "output_type": "execute_result"
    }
   ],
   "source": [
    "np.shape(all_test_descr)"
   ]
  },
  {
   "cell_type": "code",
   "execution_count": 1187,
   "metadata": {},
   "outputs": [
    {
     "data": {
      "text/plain": [
       "(295000, 128)"
      ]
     },
     "execution_count": 1187,
     "metadata": {},
     "output_type": "execute_result"
    }
   ],
   "source": [
    "np.shape(all_train_descr)"
   ]
  },
  {
   "cell_type": "code",
   "execution_count": 1188,
   "metadata": {},
   "outputs": [],
   "source": [
    "kmeans = KMeans(n_clusters=60, init='k-means++').fit(all_train_descr)"
   ]
  },
  {
   "cell_type": "code",
   "execution_count": 1189,
   "metadata": {},
   "outputs": [
    {
     "data": {
      "text/plain": [
       "array([34, 50,  6, ..., 36, 27,  2], dtype=int32)"
      ]
     },
     "execution_count": 1189,
     "metadata": {},
     "output_type": "execute_result"
    }
   ],
   "source": [
    "kmeans.labels_"
   ]
  },
  {
   "cell_type": "code",
   "execution_count": 1190,
   "metadata": {},
   "outputs": [
    {
     "data": {
      "text/plain": [
       "array([[0.07143946, 0.10625432, 0.07756905, ..., 0.01109407, 0.01175178,\n",
       "        0.02017233],\n",
       "       [0.07719146, 0.11278784, 0.06642741, ..., 0.01591448, 0.01133154,\n",
       "        0.01641522],\n",
       "       [0.03089918, 0.01728198, 0.02092396, ..., 0.03637616, 0.00640853,\n",
       "        0.00822151],\n",
       "       ...,\n",
       "       [0.03894799, 0.03775369, 0.04140979, ..., 0.02012634, 0.01889076,\n",
       "        0.02042107],\n",
       "       [0.04542718, 0.02857494, 0.02926345, ..., 0.03114134, 0.02926558,\n",
       "        0.03243295],\n",
       "       [0.0779599 , 0.04077723, 0.02606042, ..., 0.04882429, 0.01131157,\n",
       "        0.00976224]], dtype=float32)"
      ]
     },
     "execution_count": 1190,
     "metadata": {},
     "output_type": "execute_result"
    }
   ],
   "source": [
    "kmeans.cluster_centers_"
   ]
  },
  {
   "cell_type": "markdown",
   "metadata": {},
   "source": [
    "### (b)"
   ]
  },
  {
   "cell_type": "code",
   "execution_count": 1191,
   "metadata": {},
   "outputs": [],
   "source": [
    "train_bow_hist, train_labels = build_bow_hists(kmeans, train_descr)\n",
    "test_bow_hist, test_labels  = build_bow_hists(kmeans, test_descr) "
   ]
  },
  {
   "cell_type": "code",
   "execution_count": 1192,
   "metadata": {},
   "outputs": [
    {
     "data": {
      "text/plain": [
       "(9,)"
      ]
     },
     "execution_count": 1192,
     "metadata": {},
     "output_type": "execute_result"
    }
   ],
   "source": [
    "np.array(test_bow_hist).shape"
   ]
  },
  {
   "cell_type": "code",
   "execution_count": 1262,
   "metadata": {},
   "outputs": [
    {
     "data": {
      "text/plain": [
       "(9, 100, 60)"
      ]
     },
     "execution_count": 1262,
     "metadata": {},
     "output_type": "execute_result"
    }
   ],
   "source": [
    "np.array(train_bow_hist).shape"
   ]
  },
  {
   "cell_type": "code",
   "execution_count": 1343,
   "metadata": {},
   "outputs": [],
   "source": [
    "clf = svm.SVC(C=30.0, decision_function_shape='ovo', probability=False, kernel='linear', cache_size=1000)"
   ]
  },
  {
   "cell_type": "code",
   "execution_count": 1344,
   "metadata": {},
   "outputs": [
    {
     "data": {
      "text/plain": [
       "SVC(C=30.0, break_ties=False, cache_size=1000, class_weight=None, coef0=0.0,\n",
       "    decision_function_shape='ovo', degree=3, gamma='scale', kernel='linear',\n",
       "    max_iter=-1, probability=False, random_state=None, shrinking=True,\n",
       "    tol=0.001, verbose=False)"
      ]
     },
     "execution_count": 1344,
     "metadata": {},
     "output_type": "execute_result"
    }
   ],
   "source": [
    "clf.fit(flatten(train_bow_hist), flatten(train_labels))"
   ]
  },
  {
   "cell_type": "code",
   "execution_count": 1345,
   "metadata": {},
   "outputs": [],
   "source": [
    "predicted = clf.predict(flatten(test_bow_hist))"
   ]
  },
  {
   "cell_type": "code",
   "execution_count": 1346,
   "metadata": {},
   "outputs": [
    {
     "data": {
      "text/plain": [
       "array([0, 0, 8, ..., 8, 8, 8])"
      ]
     },
     "execution_count": 1346,
     "metadata": {},
     "output_type": "execute_result"
    }
   ],
   "source": [
    "predicted"
   ]
  },
  {
   "cell_type": "code",
   "execution_count": 1349,
   "metadata": {},
   "outputs": [
    {
     "data": {
      "text/plain": [
       "0.6418879056047198"
      ]
     },
     "execution_count": 1349,
     "metadata": {},
     "output_type": "execute_result"
    }
   ],
   "source": [
    "clf.score(flatten(test_bow_hist), flatten(test_labels))"
   ]
  },
  {
   "cell_type": "code",
   "execution_count": 1348,
   "metadata": {},
   "outputs": [
    {
     "name": "stdout",
     "output_type": "stream",
     "text": [
      "Classification report for classifier SVC(C=30.0, break_ties=False, cache_size=1000, class_weight=None, coef0=0.0,\n",
      "    decision_function_shape='ovo', degree=3, gamma='scale', kernel='linear',\n",
      "    max_iter=-1, probability=False, random_state=None, shrinking=True,\n",
      "    tol=0.001, verbose=False):\n",
      "              precision    recall  f1-score   support\n",
      "\n",
      "           0       0.71      0.47      0.56       260\n",
      "           1       0.77      0.91      0.84       228\n",
      "           2       0.55      0.50      0.52       160\n",
      "           3       0.49      0.55      0.52       110\n",
      "           4       0.71      0.61      0.66       274\n",
      "           5       0.62      0.67      0.64       115\n",
      "           6       0.66      0.70      0.68       215\n",
      "           7       0.53      0.56      0.54       192\n",
      "           8       0.60      0.83      0.70       141\n",
      "\n",
      "    accuracy                           0.64      1695\n",
      "   macro avg       0.63      0.64      0.63      1695\n",
      "weighted avg       0.65      0.64      0.64      1695\n",
      "\n",
      "\n"
     ]
    },
    {
     "data": {
      "application/vnd.jupyter.widget-view+json": {
       "model_id": "b5706d2181ab434caf2bf79a93b0ce35",
       "version_major": 2,
       "version_minor": 0
      },
      "text/plain": [
       "Canvas(toolbar=Toolbar(toolitems=[('Home', 'Reset original view', 'home', 'home'), ('Back', 'Back to previous …"
      ]
     },
     "metadata": {},
     "output_type": "display_data"
    },
    {
     "name": "stdout",
     "output_type": "stream",
     "text": [
      "Confusion matrix:\n",
      "[[121  16  44   5  32   0   3  29  10]\n",
      " [  0 208   0   0   8   0   5   3   4]\n",
      " [ 23   1  80   1   9   5   7  19  15]\n",
      " [  1   0   1  60   1  22   7   9   9]\n",
      " [ 23  32  11   0 167   1   5  17  18]\n",
      " [  0   0   2  25   2  77   4   1   4]\n",
      " [  0   9   2  12   4  12 151  17   8]\n",
      " [  2   3   4  10  11   4  41 107  10]\n",
      " [  0   1   2  10   1   4   6   0 117]]\n"
     ]
    }
   ],
   "source": [
    "print(\"Classification report for classifier %s:\\n%s\\n\"\n",
    "      % (clf, metrics.classification_report(flatten(test_labels), predicted)))\n",
    "disp = metrics.plot_confusion_matrix(clf, flatten(test_bow_hist), flatten(test_labels))\n",
    "disp.figure_.suptitle(\"Confusion Matrix\")\n",
    "print(\"Confusion matrix:\\n%s\" % disp.confusion_matrix)"
   ]
  },
  {
   "cell_type": "code",
   "execution_count": null,
   "metadata": {},
   "outputs": [],
   "source": []
  },
  {
   "cell_type": "code",
   "execution_count": null,
   "metadata": {},
   "outputs": [],
   "source": []
  }
 ],
 "metadata": {
  "kernelspec": {
   "display_name": "Python 3",
   "language": "python",
   "name": "python3"
  },
  "language_info": {
   "codemirror_mode": {
    "name": "ipython",
    "version": 3
   },
   "file_extension": ".py",
   "mimetype": "text/x-python",
   "name": "python",
   "nbconvert_exporter": "python",
   "pygments_lexer": "ipython3",
   "version": "3.8.3"
  }
 },
 "nbformat": 4,
 "nbformat_minor": 4
}
